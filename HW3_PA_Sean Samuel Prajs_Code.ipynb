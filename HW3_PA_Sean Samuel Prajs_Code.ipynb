{
 "cells": [
  {
   "cell_type": "markdown",
   "metadata": {
    "id": "IindEuuxzgBz"
   },
   "source": [
    "# HW3 Sean Samuel Prajs"
   ]
  },
  {
   "cell_type": "markdown",
   "metadata": {
    "id": "Bt7L-IcWzh2p"
   },
   "source": [
    "## Imports"
   ]
  },
  {
   "cell_type": "code",
   "execution_count": 1,
   "metadata": {
    "id": "ha1I3b7Czn4U"
   },
   "outputs": [],
   "source": [
    "#General\n",
    "import pandas as pd\n",
    "import numpy as np\n",
    "\n",
    "#Find outliers using seaborne boxplot\n",
    "import seaborn as sns\n",
    "import matplotlib.pyplot as plt\n",
    "\n",
    "#Standardize numerical values\n",
    "from sklearn.preprocessing import StandardScaler\n",
    "\n",
    "#Encode Categorical Values\n",
    "from sklearn.preprocessing import LabelEncoder\n",
    "\n",
    "#Basic feature selection\n",
    "from sklearn.feature_selection import SelectKBest, chi2, mutual_info_classif\n",
    "\n",
    "#Modeling\n",
    "from sklearn.model_selection import train_test_split\n",
    "from sklearn.metrics import accuracy_score, classification_report, confusion_matrix, precision_score, recall_score\n",
    "from sklearn.model_selection import cross_val_score\n",
    "from imblearn.over_sampling import RandomOverSampler\n",
    "\n",
    "#Naive Bayes\n",
    "from sklearn.naive_bayes import GaussianNB\n",
    "\n",
    "#C4.5 Decision Tree\n",
    "from sklearn.tree import DecisionTreeClassifier, export_text\n",
    "\n",
    "#Random Forest\n",
    "from sklearn.ensemble import RandomForestClassifier\n",
    "\n",
    "#Gradient Bossting\n",
    "from sklearn.ensemble import GradientBoostingClassifier\n",
    "\n",
    "#Neural Network\n",
    "from sklearn.neural_network import MLPClassifier\n",
    "\n",
    "#Hyperparameter Tuning\n",
    "from sklearn.model_selection import RandomizedSearchCV\n",
    "from sklearn.metrics import make_scorer\n",
    "from imblearn.pipeline import Pipeline"
   ]
  },
  {
   "cell_type": "markdown",
   "metadata": {
    "id": "WqI2cIGRziEl"
   },
   "source": [
    "## Preprocessing"
   ]
  },
  {
   "cell_type": "markdown",
   "metadata": {
    "id": "Ak2HFhw2G2Au"
   },
   "source": [
    "### Discovery"
   ]
  },
  {
   "cell_type": "code",
   "execution_count": 2,
   "metadata": {
    "id": "oS9ZO4bw0q7E"
   },
   "outputs": [],
   "source": [
    "data = pd.read_csv(\"Breast_Cancer_dataset.csv\")"
   ]
  },
  {
   "cell_type": "code",
   "execution_count": 3,
   "metadata": {
    "colab": {
     "base_uri": "https://localhost:8080/",
     "height": 0
    },
    "id": "2fcUd1Z30wqb",
    "outputId": "0e5c4c40-5ada-422f-848c-ce17ea1c058d"
   },
   "outputs": [
    {
     "data": {
      "text/html": [
       "<div>\n",
       "<style scoped>\n",
       "    .dataframe tbody tr th:only-of-type {\n",
       "        vertical-align: middle;\n",
       "    }\n",
       "\n",
       "    .dataframe tbody tr th {\n",
       "        vertical-align: top;\n",
       "    }\n",
       "\n",
       "    .dataframe thead th {\n",
       "        text-align: right;\n",
       "    }\n",
       "</style>\n",
       "<table border=\"1\" class=\"dataframe\">\n",
       "  <thead>\n",
       "    <tr style=\"text-align: right;\">\n",
       "      <th></th>\n",
       "      <th>Age</th>\n",
       "      <th>Race</th>\n",
       "      <th>Marital Status</th>\n",
       "      <th>T Stage</th>\n",
       "      <th>N Stage</th>\n",
       "      <th>6th Stage</th>\n",
       "      <th>differentiate</th>\n",
       "      <th>Grade</th>\n",
       "      <th>A Stage</th>\n",
       "      <th>Tumor Size</th>\n",
       "      <th>Estrogen Status</th>\n",
       "      <th>Progesterone Status</th>\n",
       "      <th>Regional Node Examined</th>\n",
       "      <th>Reginol Node Positive</th>\n",
       "      <th>Survival Months</th>\n",
       "      <th>Status</th>\n",
       "    </tr>\n",
       "  </thead>\n",
       "  <tbody>\n",
       "    <tr>\n",
       "      <th>0</th>\n",
       "      <td>68.0</td>\n",
       "      <td>White</td>\n",
       "      <td>Married</td>\n",
       "      <td>T1</td>\n",
       "      <td>N1</td>\n",
       "      <td>IIA</td>\n",
       "      <td>Poorly differentiated</td>\n",
       "      <td>3</td>\n",
       "      <td>Regional</td>\n",
       "      <td>4.0</td>\n",
       "      <td>Positive</td>\n",
       "      <td>Positive</td>\n",
       "      <td>24.0</td>\n",
       "      <td>1</td>\n",
       "      <td>60</td>\n",
       "      <td>Alive</td>\n",
       "    </tr>\n",
       "    <tr>\n",
       "      <th>1</th>\n",
       "      <td>50.0</td>\n",
       "      <td>White</td>\n",
       "      <td>NaN</td>\n",
       "      <td>T2</td>\n",
       "      <td>N2</td>\n",
       "      <td>IIIA</td>\n",
       "      <td>Moderately differentiated</td>\n",
       "      <td>2</td>\n",
       "      <td>Regional</td>\n",
       "      <td>35.0</td>\n",
       "      <td>Positive</td>\n",
       "      <td>Positive</td>\n",
       "      <td>14.0</td>\n",
       "      <td>5</td>\n",
       "      <td>62</td>\n",
       "      <td>Alive</td>\n",
       "    </tr>\n",
       "    <tr>\n",
       "      <th>2</th>\n",
       "      <td>58.0</td>\n",
       "      <td>White</td>\n",
       "      <td>Divorced</td>\n",
       "      <td>T3</td>\n",
       "      <td>N3</td>\n",
       "      <td>IIIC</td>\n",
       "      <td>Moderately differentiated</td>\n",
       "      <td>2</td>\n",
       "      <td>Regional</td>\n",
       "      <td>63.0</td>\n",
       "      <td>Positive</td>\n",
       "      <td>Positive</td>\n",
       "      <td>14.0</td>\n",
       "      <td>7</td>\n",
       "      <td>75</td>\n",
       "      <td>Alive</td>\n",
       "    </tr>\n",
       "    <tr>\n",
       "      <th>3</th>\n",
       "      <td>58.0</td>\n",
       "      <td>White</td>\n",
       "      <td>Married</td>\n",
       "      <td>T1</td>\n",
       "      <td>N1</td>\n",
       "      <td>IIA</td>\n",
       "      <td>Poorly differentiated</td>\n",
       "      <td>3</td>\n",
       "      <td>Regional</td>\n",
       "      <td>NaN</td>\n",
       "      <td>Positive</td>\n",
       "      <td>Positive</td>\n",
       "      <td>2.0</td>\n",
       "      <td>1</td>\n",
       "      <td>84</td>\n",
       "      <td>Alive</td>\n",
       "    </tr>\n",
       "    <tr>\n",
       "      <th>4</th>\n",
       "      <td>47.0</td>\n",
       "      <td>White</td>\n",
       "      <td>Married</td>\n",
       "      <td>T2</td>\n",
       "      <td>N1</td>\n",
       "      <td>IIB</td>\n",
       "      <td>Poorly differentiated</td>\n",
       "      <td>3</td>\n",
       "      <td>Regional</td>\n",
       "      <td>41.0</td>\n",
       "      <td>NaN</td>\n",
       "      <td>Positive</td>\n",
       "      <td>3.0</td>\n",
       "      <td>1</td>\n",
       "      <td>50</td>\n",
       "      <td>Alive</td>\n",
       "    </tr>\n",
       "  </tbody>\n",
       "</table>\n",
       "</div>"
      ],
      "text/plain": [
       "    Age   Race Marital Status T Stage  N Stage 6th Stage  \\\n",
       "0  68.0  White        Married       T1      N1       IIA   \n",
       "1  50.0  White            NaN       T2      N2      IIIA   \n",
       "2  58.0  White       Divorced       T3      N3      IIIC   \n",
       "3  58.0  White        Married       T1      N1       IIA   \n",
       "4  47.0  White        Married       T2      N1       IIB   \n",
       "\n",
       "               differentiate Grade   A Stage  Tumor Size Estrogen Status  \\\n",
       "0      Poorly differentiated     3  Regional         4.0        Positive   \n",
       "1  Moderately differentiated     2  Regional        35.0        Positive   \n",
       "2  Moderately differentiated     2  Regional        63.0        Positive   \n",
       "3      Poorly differentiated     3  Regional         NaN        Positive   \n",
       "4      Poorly differentiated     3  Regional        41.0             NaN   \n",
       "\n",
       "  Progesterone Status  Regional Node Examined  Reginol Node Positive  \\\n",
       "0            Positive                    24.0                      1   \n",
       "1            Positive                    14.0                      5   \n",
       "2            Positive                    14.0                      7   \n",
       "3            Positive                     2.0                      1   \n",
       "4            Positive                     3.0                      1   \n",
       "\n",
       "   Survival Months Status  \n",
       "0               60  Alive  \n",
       "1               62  Alive  \n",
       "2               75  Alive  \n",
       "3               84  Alive  \n",
       "4               50  Alive  "
      ]
     },
     "execution_count": 3,
     "metadata": {},
     "output_type": "execute_result"
    }
   ],
   "source": [
    "data.head()"
   ]
  },
  {
   "cell_type": "code",
   "execution_count": 4,
   "metadata": {
    "colab": {
     "base_uri": "https://localhost:8080/"
    },
    "id": "o-vyiRdac_G-",
    "outputId": "29f50d7a-1fac-4022-c984-2e23437fd93c"
   },
   "outputs": [
    {
     "name": "stdout",
     "output_type": "stream",
     "text": [
      "<class 'pandas.core.frame.DataFrame'>\n",
      "RangeIndex: 4024 entries, 0 to 4023\n",
      "Data columns (total 16 columns):\n",
      " #   Column                  Non-Null Count  Dtype  \n",
      "---  ------                  --------------  -----  \n",
      " 0   Age                     3823 non-null   float64\n",
      " 1   Race                    3622 non-null   object \n",
      " 2   Marital Status          3703 non-null   object \n",
      " 3   T Stage                 4024 non-null   object \n",
      " 4   N Stage                 4024 non-null   object \n",
      " 5   6th Stage               4024 non-null   object \n",
      " 6   differentiate           4024 non-null   object \n",
      " 7   Grade                   4024 non-null   object \n",
      " 8   A Stage                 4024 non-null   object \n",
      " 9   Tumor Size              3622 non-null   float64\n",
      " 10  Estrogen Status         3823 non-null   object \n",
      " 11  Progesterone Status     4024 non-null   object \n",
      " 12  Regional Node Examined  3421 non-null   float64\n",
      " 13  Reginol Node Positive   4024 non-null   int64  \n",
      " 14  Survival Months         4024 non-null   int64  \n",
      " 15  Status                  4024 non-null   object \n",
      "dtypes: float64(3), int64(2), object(11)\n",
      "memory usage: 503.1+ KB\n"
     ]
    }
   ],
   "source": [
    "data.info()"
   ]
  },
  {
   "cell_type": "code",
   "execution_count": 5,
   "metadata": {
    "colab": {
     "base_uri": "https://localhost:8080/",
     "height": 0
    },
    "id": "PLTies97dH3m",
    "outputId": "82a38306-ec7d-40e5-b72f-599bca426dcb"
   },
   "outputs": [
    {
     "data": {
      "text/html": [
       "<div>\n",
       "<style scoped>\n",
       "    .dataframe tbody tr th:only-of-type {\n",
       "        vertical-align: middle;\n",
       "    }\n",
       "\n",
       "    .dataframe tbody tr th {\n",
       "        vertical-align: top;\n",
       "    }\n",
       "\n",
       "    .dataframe thead th {\n",
       "        text-align: right;\n",
       "    }\n",
       "</style>\n",
       "<table border=\"1\" class=\"dataframe\">\n",
       "  <thead>\n",
       "    <tr style=\"text-align: right;\">\n",
       "      <th></th>\n",
       "      <th>Age</th>\n",
       "      <th>Race</th>\n",
       "      <th>Marital Status</th>\n",
       "      <th>T Stage</th>\n",
       "      <th>N Stage</th>\n",
       "      <th>6th Stage</th>\n",
       "      <th>differentiate</th>\n",
       "      <th>Grade</th>\n",
       "      <th>A Stage</th>\n",
       "      <th>Tumor Size</th>\n",
       "      <th>Estrogen Status</th>\n",
       "      <th>Progesterone Status</th>\n",
       "      <th>Regional Node Examined</th>\n",
       "      <th>Reginol Node Positive</th>\n",
       "      <th>Survival Months</th>\n",
       "      <th>Status</th>\n",
       "    </tr>\n",
       "  </thead>\n",
       "  <tbody>\n",
       "    <tr>\n",
       "      <th>count</th>\n",
       "      <td>3823.000000</td>\n",
       "      <td>3622</td>\n",
       "      <td>3703</td>\n",
       "      <td>4024</td>\n",
       "      <td>4024</td>\n",
       "      <td>4024</td>\n",
       "      <td>4024</td>\n",
       "      <td>4024</td>\n",
       "      <td>4024</td>\n",
       "      <td>3622.000000</td>\n",
       "      <td>3823</td>\n",
       "      <td>4024</td>\n",
       "      <td>3421.000000</td>\n",
       "      <td>4024.000000</td>\n",
       "      <td>4024.000000</td>\n",
       "      <td>4024</td>\n",
       "    </tr>\n",
       "    <tr>\n",
       "      <th>unique</th>\n",
       "      <td>NaN</td>\n",
       "      <td>3</td>\n",
       "      <td>5</td>\n",
       "      <td>4</td>\n",
       "      <td>3</td>\n",
       "      <td>5</td>\n",
       "      <td>4</td>\n",
       "      <td>4</td>\n",
       "      <td>2</td>\n",
       "      <td>NaN</td>\n",
       "      <td>2</td>\n",
       "      <td>2</td>\n",
       "      <td>NaN</td>\n",
       "      <td>NaN</td>\n",
       "      <td>NaN</td>\n",
       "      <td>2</td>\n",
       "    </tr>\n",
       "    <tr>\n",
       "      <th>top</th>\n",
       "      <td>NaN</td>\n",
       "      <td>White</td>\n",
       "      <td>Married</td>\n",
       "      <td>T2</td>\n",
       "      <td>N1</td>\n",
       "      <td>IIA</td>\n",
       "      <td>Moderately differentiated</td>\n",
       "      <td>2</td>\n",
       "      <td>Regional</td>\n",
       "      <td>NaN</td>\n",
       "      <td>Positive</td>\n",
       "      <td>Positive</td>\n",
       "      <td>NaN</td>\n",
       "      <td>NaN</td>\n",
       "      <td>NaN</td>\n",
       "      <td>Alive</td>\n",
       "    </tr>\n",
       "    <tr>\n",
       "      <th>freq</th>\n",
       "      <td>NaN</td>\n",
       "      <td>3069</td>\n",
       "      <td>2436</td>\n",
       "      <td>1786</td>\n",
       "      <td>2732</td>\n",
       "      <td>1305</td>\n",
       "      <td>2351</td>\n",
       "      <td>2351</td>\n",
       "      <td>3932</td>\n",
       "      <td>NaN</td>\n",
       "      <td>3567</td>\n",
       "      <td>3326</td>\n",
       "      <td>NaN</td>\n",
       "      <td>NaN</td>\n",
       "      <td>NaN</td>\n",
       "      <td>3408</td>\n",
       "    </tr>\n",
       "    <tr>\n",
       "      <th>mean</th>\n",
       "      <td>53.931467</td>\n",
       "      <td>NaN</td>\n",
       "      <td>NaN</td>\n",
       "      <td>NaN</td>\n",
       "      <td>NaN</td>\n",
       "      <td>NaN</td>\n",
       "      <td>NaN</td>\n",
       "      <td>NaN</td>\n",
       "      <td>NaN</td>\n",
       "      <td>30.560188</td>\n",
       "      <td>NaN</td>\n",
       "      <td>NaN</td>\n",
       "      <td>14.351652</td>\n",
       "      <td>4.158052</td>\n",
       "      <td>71.297962</td>\n",
       "      <td>NaN</td>\n",
       "    </tr>\n",
       "    <tr>\n",
       "      <th>std</th>\n",
       "      <td>8.972253</td>\n",
       "      <td>NaN</td>\n",
       "      <td>NaN</td>\n",
       "      <td>NaN</td>\n",
       "      <td>NaN</td>\n",
       "      <td>NaN</td>\n",
       "      <td>NaN</td>\n",
       "      <td>NaN</td>\n",
       "      <td>NaN</td>\n",
       "      <td>21.428535</td>\n",
       "      <td>NaN</td>\n",
       "      <td>NaN</td>\n",
       "      <td>8.170800</td>\n",
       "      <td>5.109331</td>\n",
       "      <td>22.921430</td>\n",
       "      <td>NaN</td>\n",
       "    </tr>\n",
       "    <tr>\n",
       "      <th>min</th>\n",
       "      <td>30.000000</td>\n",
       "      <td>NaN</td>\n",
       "      <td>NaN</td>\n",
       "      <td>NaN</td>\n",
       "      <td>NaN</td>\n",
       "      <td>NaN</td>\n",
       "      <td>NaN</td>\n",
       "      <td>NaN</td>\n",
       "      <td>NaN</td>\n",
       "      <td>1.000000</td>\n",
       "      <td>NaN</td>\n",
       "      <td>NaN</td>\n",
       "      <td>1.000000</td>\n",
       "      <td>1.000000</td>\n",
       "      <td>1.000000</td>\n",
       "      <td>NaN</td>\n",
       "    </tr>\n",
       "    <tr>\n",
       "      <th>25%</th>\n",
       "      <td>47.000000</td>\n",
       "      <td>NaN</td>\n",
       "      <td>NaN</td>\n",
       "      <td>NaN</td>\n",
       "      <td>NaN</td>\n",
       "      <td>NaN</td>\n",
       "      <td>NaN</td>\n",
       "      <td>NaN</td>\n",
       "      <td>NaN</td>\n",
       "      <td>16.000000</td>\n",
       "      <td>NaN</td>\n",
       "      <td>NaN</td>\n",
       "      <td>9.000000</td>\n",
       "      <td>1.000000</td>\n",
       "      <td>56.000000</td>\n",
       "      <td>NaN</td>\n",
       "    </tr>\n",
       "    <tr>\n",
       "      <th>50%</th>\n",
       "      <td>54.000000</td>\n",
       "      <td>NaN</td>\n",
       "      <td>NaN</td>\n",
       "      <td>NaN</td>\n",
       "      <td>NaN</td>\n",
       "      <td>NaN</td>\n",
       "      <td>NaN</td>\n",
       "      <td>NaN</td>\n",
       "      <td>NaN</td>\n",
       "      <td>25.000000</td>\n",
       "      <td>NaN</td>\n",
       "      <td>NaN</td>\n",
       "      <td>14.000000</td>\n",
       "      <td>2.000000</td>\n",
       "      <td>73.000000</td>\n",
       "      <td>NaN</td>\n",
       "    </tr>\n",
       "    <tr>\n",
       "      <th>75%</th>\n",
       "      <td>61.000000</td>\n",
       "      <td>NaN</td>\n",
       "      <td>NaN</td>\n",
       "      <td>NaN</td>\n",
       "      <td>NaN</td>\n",
       "      <td>NaN</td>\n",
       "      <td>NaN</td>\n",
       "      <td>NaN</td>\n",
       "      <td>NaN</td>\n",
       "      <td>38.000000</td>\n",
       "      <td>NaN</td>\n",
       "      <td>NaN</td>\n",
       "      <td>19.000000</td>\n",
       "      <td>5.000000</td>\n",
       "      <td>90.000000</td>\n",
       "      <td>NaN</td>\n",
       "    </tr>\n",
       "    <tr>\n",
       "      <th>max</th>\n",
       "      <td>69.000000</td>\n",
       "      <td>NaN</td>\n",
       "      <td>NaN</td>\n",
       "      <td>NaN</td>\n",
       "      <td>NaN</td>\n",
       "      <td>NaN</td>\n",
       "      <td>NaN</td>\n",
       "      <td>NaN</td>\n",
       "      <td>NaN</td>\n",
       "      <td>140.000000</td>\n",
       "      <td>NaN</td>\n",
       "      <td>NaN</td>\n",
       "      <td>61.000000</td>\n",
       "      <td>46.000000</td>\n",
       "      <td>107.000000</td>\n",
       "      <td>NaN</td>\n",
       "    </tr>\n",
       "  </tbody>\n",
       "</table>\n",
       "</div>"
      ],
      "text/plain": [
       "                Age   Race Marital Status T Stage  N Stage 6th Stage  \\\n",
       "count   3823.000000   3622           3703     4024    4024      4024   \n",
       "unique          NaN      3              5        4       3         5   \n",
       "top             NaN  White        Married       T2      N1       IIA   \n",
       "freq            NaN   3069           2436     1786    2732      1305   \n",
       "mean      53.931467    NaN            NaN      NaN     NaN       NaN   \n",
       "std        8.972253    NaN            NaN      NaN     NaN       NaN   \n",
       "min       30.000000    NaN            NaN      NaN     NaN       NaN   \n",
       "25%       47.000000    NaN            NaN      NaN     NaN       NaN   \n",
       "50%       54.000000    NaN            NaN      NaN     NaN       NaN   \n",
       "75%       61.000000    NaN            NaN      NaN     NaN       NaN   \n",
       "max       69.000000    NaN            NaN      NaN     NaN       NaN   \n",
       "\n",
       "                    differentiate Grade   A Stage   Tumor Size  \\\n",
       "count                        4024  4024      4024  3622.000000   \n",
       "unique                          4     4         2          NaN   \n",
       "top     Moderately differentiated     2  Regional          NaN   \n",
       "freq                         2351  2351      3932          NaN   \n",
       "mean                          NaN   NaN       NaN    30.560188   \n",
       "std                           NaN   NaN       NaN    21.428535   \n",
       "min                           NaN   NaN       NaN     1.000000   \n",
       "25%                           NaN   NaN       NaN    16.000000   \n",
       "50%                           NaN   NaN       NaN    25.000000   \n",
       "75%                           NaN   NaN       NaN    38.000000   \n",
       "max                           NaN   NaN       NaN   140.000000   \n",
       "\n",
       "       Estrogen Status Progesterone Status  Regional Node Examined  \\\n",
       "count             3823                4024             3421.000000   \n",
       "unique               2                   2                     NaN   \n",
       "top           Positive            Positive                     NaN   \n",
       "freq              3567                3326                     NaN   \n",
       "mean               NaN                 NaN               14.351652   \n",
       "std                NaN                 NaN                8.170800   \n",
       "min                NaN                 NaN                1.000000   \n",
       "25%                NaN                 NaN                9.000000   \n",
       "50%                NaN                 NaN               14.000000   \n",
       "75%                NaN                 NaN               19.000000   \n",
       "max                NaN                 NaN               61.000000   \n",
       "\n",
       "        Reginol Node Positive  Survival Months Status  \n",
       "count             4024.000000      4024.000000   4024  \n",
       "unique                    NaN              NaN      2  \n",
       "top                       NaN              NaN  Alive  \n",
       "freq                      NaN              NaN   3408  \n",
       "mean                 4.158052        71.297962    NaN  \n",
       "std                  5.109331        22.921430    NaN  \n",
       "min                  1.000000         1.000000    NaN  \n",
       "25%                  1.000000        56.000000    NaN  \n",
       "50%                  2.000000        73.000000    NaN  \n",
       "75%                  5.000000        90.000000    NaN  \n",
       "max                 46.000000       107.000000    NaN  "
      ]
     },
     "execution_count": 5,
     "metadata": {},
     "output_type": "execute_result"
    }
   ],
   "source": [
    "data.describe(include='all')"
   ]
  },
  {
   "cell_type": "code",
   "execution_count": 6,
   "metadata": {
    "colab": {
     "base_uri": "https://localhost:8080/"
    },
    "id": "5BaLeq9FdbUR",
    "outputId": "52b66984-24d8-431e-9909-b930f9f834ab"
   },
   "outputs": [
    {
     "name": "stdout",
     "output_type": "stream",
     "text": [
      "Race\n",
      "----------------\n",
      "White: 76.27%\n",
      "Black: 6.54%\n",
      "Other: 7.21%\n",
      "          \n",
      "Marital Status\n",
      "----------------\n",
      "Married: 60.54%\n",
      "Divorced: 10.83%\n",
      "Single : 14.29%\n",
      "Widowed: 5.39%\n",
      "Separated: 0.97%\n",
      "          \n",
      "T Stage \n",
      "----------------\n",
      "T1: 39.84%\n",
      "T2: 44.38%\n",
      "T3: 13.25%\n",
      "T4: 2.53%\n",
      "          \n",
      "N Stage\n",
      "----------------\n",
      "N1: 67.89%\n",
      "N2: 20.38%\n",
      "N3: 11.73%\n",
      "          \n",
      "6th Stage\n",
      "----------------\n",
      "IIA: 32.43%\n",
      "IIIA: 26.09%\n",
      "IIIC: 11.73%\n",
      "IIB: 28.08%\n",
      "IIIB: 1.67%\n",
      "          \n",
      "differentiate\n",
      "----------------\n",
      "Poorly differentiated: 27.61%\n",
      "Moderately differentiated: 58.42%\n",
      "Well differentiated: 13.49%\n",
      "Undifferentiated: 0.47%\n",
      "          \n",
      "Grade\n",
      "----------------\n",
      "3: 27.61%\n",
      "2: 58.42%\n",
      "1: 13.49%\n",
      " anaplastic; Grade IV: 0.47%\n",
      "          \n",
      "A Stage\n",
      "----------------\n",
      "Regional: 97.71%\n",
      "Distant: 2.29%\n",
      "          \n",
      "Estrogen Status\n",
      "----------------\n",
      "Positive: 88.64%\n",
      "Negative: 6.36%\n",
      "          \n",
      "Progesterone Status\n",
      "----------------\n",
      "Positive: 82.65%\n",
      "Negative: 17.35%\n",
      "          \n"
     ]
    }
   ],
   "source": [
    "#find the proportions of each category in object features\n",
    "for i in data.iloc[:,:-1].select_dtypes(include=['object']).columns:\n",
    "    print(i)\n",
    "    print('--'*8)\n",
    "    for j in data[i].unique():\n",
    "        if isinstance(j,str):\n",
    "            print(f\"{j}: {round((data[i].value_counts()[j]/data.shape[0])*100,2)}%\")\n",
    "        else:\n",
    "            continue\n",
    "    print(' '*10)"
   ]
  },
  {
   "cell_type": "markdown",
   "metadata": {
    "id": "hF4cQ6bZG7wv"
   },
   "source": [
    "### Outlier Removal"
   ]
  },
  {
   "cell_type": "code",
   "execution_count": 7,
   "metadata": {
    "colab": {
     "base_uri": "https://localhost:8080/"
    },
    "id": "yvKUAYD-fo8k",
    "outputId": "e05dc5f2-bf81-4e74-f752-2ce3cb0fd5dd"
   },
   "outputs": [
    {
     "name": "stdout",
     "output_type": "stream",
     "text": [
      "Age\n",
      "Tumor Size\n",
      "Regional Node Examined\n",
      "Reginol Node Positive\n",
      "Survival Months\n"
     ]
    }
   ],
   "source": [
    "#find numerical columns\n",
    "for i in data.select_dtypes(include=['int64','float64']).columns:\n",
    "    print(i)"
   ]
  },
  {
   "cell_type": "code",
   "execution_count": 8,
   "metadata": {
    "colab": {
     "base_uri": "https://localhost:8080/",
     "height": 0
    },
    "id": "2hPpqrPQfJAz",
    "outputId": "c43c609c-bb96-4c27-89e3-ef432bfbaf55",
    "scrolled": false
   },
   "outputs": [
    {
     "data": {
      "image/png": "[encoded data removed]",
      "text/plain": [
       "<Figure size 800x2500 with 5 Axes>"
      ]
     },
     "metadata": {},
     "output_type": "display_data"
    }
   ],
   "source": [
    "#subplot\n",
    "fig, axs = plt.subplots(5, 1, figsize=(8, 25))\n",
    "\n",
    "#plot seaborne boxplot onto plt subplots for each numerical column\n",
    "for i, ax in enumerate(axs.flatten()):\n",
    "    sns.boxplot(y=data[data.select_dtypes(include=['int64','float64']).columns[i]], ax=ax)\n",
    "    ax.set_title(data.select_dtypes(include=['int64','float64']).columns[i])\n",
    "\n",
    "plt.tight_layout()\n",
    "plt.show()"
   ]
  },
  {
   "cell_type": "markdown",
   "metadata": {
    "id": "C_QJ52gXiPKA"
   },
   "source": [
    "Above we can see no outliers for Age.\n",
    "\n",
    "Outliers bounds for others: </br>\n",
    "1. <b>Tumor Size:</b> >70 </br>\n",
    "2. <b>Regional Node Examined:</b> >35 </br>\n",
    "3. <b>Reginol Node Positive:</b> >12 </br>\n",
    "4. <b>Survival Months:</b> <8"
   ]
  },
  {
   "cell_type": "code",
   "execution_count": 9,
   "metadata": {
    "id": "eskEoJbxiN6B"
   },
   "outputs": [],
   "source": [
    "#rules for filtering out outliers in numerical columns\n",
    "rules = (data['Tumor Size']<70) & (data['Regional Node Examined']<35) \\\n",
    "& (data['Reginol Node Positive']<12) & (data['Survival Months']>8)"
   ]
  },
  {
   "cell_type": "code",
   "execution_count": 10,
   "metadata": {
    "id": "jUEUUeJbFUj0"
   },
   "outputs": [],
   "source": [
    "data_no_outliers = data[rules]"
   ]
  },
  {
   "cell_type": "markdown",
   "metadata": {
    "id": "jrcxc4bDHPOm"
   },
   "source": [
    "### Handle Missing Values"
   ]
  },
  {
   "cell_type": "code",
   "execution_count": 11,
   "metadata": {
    "colab": {
     "base_uri": "https://localhost:8080/",
     "height": 0
    },
    "id": "9GTmafljHSya",
    "outputId": "05bc6e73-0c6a-467e-936f-a39ba27dc4e3"
   },
   "outputs": [
    {
     "data": {
      "text/plain": [
       "Age                126\n",
       "Race               268\n",
       "Marital Status     201\n",
       "Estrogen Status    131\n",
       "dtype: int64"
      ]
     },
     "execution_count": 11,
     "metadata": {},
     "output_type": "execute_result"
    }
   ],
   "source": [
    "#check for missing values\n",
    "data_no_outliers.isna().sum()[data_no_outliers.isna().sum()>0]"
   ]
  },
  {
   "cell_type": "code",
   "execution_count": 12,
   "metadata": {
    "colab": {
     "base_uri": "https://localhost:8080/"
    },
    "id": "YjYqCt2PHlPA",
    "outputId": "286a38cd-ce4d-4f0a-f5d2-d5cee42f2f76"
   },
   "outputs": [
    {
     "data": {
      "text/plain": [
       "25.656877897990725"
      ]
     },
     "execution_count": 12,
     "metadata": {},
     "output_type": "execute_result"
    }
   ],
   "source": [
    "#Remove all rows with outliers\n",
    "data_missing_removed = data_no_outliers.dropna()\n",
    "\n",
    "#ratio of how many rows are removed\n",
    "((data_no_outliers.shape[0]-data_missing_removed.shape[0])\n",
    "/data_no_outliers.shape[0])*100"
   ]
  },
  {
   "cell_type": "markdown",
   "metadata": {
    "id": "rj_vpZJzI1Dv"
   },
   "source": [
    "Rows with missing values make up 25.66% of the total data. We can try dropping all of them for now and continue with ```data_missing_removed ``` in further analysis.\n",
    "\n",
    "\n",
    "\n"
   ]
  },
  {
   "cell_type": "markdown",
   "metadata": {
    "id": "F8RWqztJzfpd"
   },
   "source": [
    "### Standardization"
   ]
  },
  {
   "cell_type": "code",
   "execution_count": 13,
   "metadata": {
    "colab": {
     "base_uri": "https://localhost:8080/"
    },
    "id": "Ga3ok50CIuEv",
    "outputId": "341b3890-bbc1-47a5-9d6b-f62024dd9f2b"
   },
   "outputs": [
    {
     "name": "stderr",
     "output_type": "stream",
     "text": [
      "/var/folders/8q/g9__pn951hx3tknrzhyt96lh0000gn/T/ipykernel_52961/2074461243.py:3: SettingWithCopyWarning: \n",
      "A value is trying to be set on a copy of a slice from a DataFrame.\n",
      "Try using .loc[row_indexer,col_indexer] = value instead\n",
      "\n",
      "See the caveats in the documentation: https://pandas.pydata.org/pandas-docs/stable/user_guide/indexing.html#returning-a-view-versus-a-copy\n",
      "  data_missing_removed['Age'] = scaler.fit_transform(data_missing_removed['Age'].values.reshape(-1,1))\n",
      "/var/folders/8q/g9__pn951hx3tknrzhyt96lh0000gn/T/ipykernel_52961/2074461243.py:4: SettingWithCopyWarning: \n",
      "A value is trying to be set on a copy of a slice from a DataFrame.\n",
      "Try using .loc[row_indexer,col_indexer] = value instead\n",
      "\n",
      "See the caveats in the documentation: https://pandas.pydata.org/pandas-docs/stable/user_guide/indexing.html#returning-a-view-versus-a-copy\n",
      "  data_missing_removed['Tumor Size'] = scaler.fit_transform(data_missing_removed['Tumor Size'].values.reshape(-1,1))\n",
      "/var/folders/8q/g9__pn951hx3tknrzhyt96lh0000gn/T/ipykernel_52961/2074461243.py:5: SettingWithCopyWarning: \n",
      "A value is trying to be set on a copy of a slice from a DataFrame.\n",
      "Try using .loc[row_indexer,col_indexer] = value instead\n",
      "\n",
      "See the caveats in the documentation: https://pandas.pydata.org/pandas-docs/stable/user_guide/indexing.html#returning-a-view-versus-a-copy\n",
      "  data_missing_removed['Regional Node Examined'] = scaler.fit_transform(data_missing_removed['Regional Node Examined'].values.reshape(-1,1))\n",
      "/var/folders/8q/g9__pn951hx3tknrzhyt96lh0000gn/T/ipykernel_52961/2074461243.py:6: SettingWithCopyWarning: \n",
      "A value is trying to be set on a copy of a slice from a DataFrame.\n",
      "Try using .loc[row_indexer,col_indexer] = value instead\n",
      "\n",
      "See the caveats in the documentation: https://pandas.pydata.org/pandas-docs/stable/user_guide/indexing.html#returning-a-view-versus-a-copy\n",
      "  data_missing_removed['Reginol Node Positive'] = scaler.fit_transform(data_missing_removed['Reginol Node Positive'].values.reshape(-1,1))\n",
      "/var/folders/8q/g9__pn951hx3tknrzhyt96lh0000gn/T/ipykernel_52961/2074461243.py:7: SettingWithCopyWarning: \n",
      "A value is trying to be set on a copy of a slice from a DataFrame.\n",
      "Try using .loc[row_indexer,col_indexer] = value instead\n",
      "\n",
      "See the caveats in the documentation: https://pandas.pydata.org/pandas-docs/stable/user_guide/indexing.html#returning-a-view-versus-a-copy\n",
      "  data_missing_removed['Survival Months'] = scaler.fit_transform(data_missing_removed['Survival Months'].values.reshape(-1,1))\n"
     ]
    }
   ],
   "source": [
    "#Use StandardScaler to standardize data\n",
    "scaler = StandardScaler()\n",
    "data_missing_removed['Age'] = scaler.fit_transform(data_missing_removed['Age'].values.reshape(-1,1))\n",
    "data_missing_removed['Tumor Size'] = scaler.fit_transform(data_missing_removed['Tumor Size'].values.reshape(-1,1))\n",
    "data_missing_removed['Regional Node Examined'] = scaler.fit_transform(data_missing_removed['Regional Node Examined'].values.reshape(-1,1))\n",
    "data_missing_removed['Reginol Node Positive'] = scaler.fit_transform(data_missing_removed['Reginol Node Positive'].values.reshape(-1,1))\n",
    "data_missing_removed['Survival Months'] = scaler.fit_transform(data_missing_removed['Survival Months'].values.reshape(-1,1))"
   ]
  },
  {
   "cell_type": "code",
   "execution_count": 14,
   "metadata": {
    "colab": {
     "base_uri": "https://localhost:8080/",
     "height": 0
    },
    "id": "8wzc0izxHxhj",
    "outputId": "79534579-01cd-462a-ffcf-5cd5d2b6c09f"
   },
   "outputs": [
    {
     "data": {
      "text/html": [
       "<div>\n",
       "<style scoped>\n",
       "    .dataframe tbody tr th:only-of-type {\n",
       "        vertical-align: middle;\n",
       "    }\n",
       "\n",
       "    .dataframe tbody tr th {\n",
       "        vertical-align: top;\n",
       "    }\n",
       "\n",
       "    .dataframe thead th {\n",
       "        text-align: right;\n",
       "    }\n",
       "</style>\n",
       "<table border=\"1\" class=\"dataframe\">\n",
       "  <thead>\n",
       "    <tr style=\"text-align: right;\">\n",
       "      <th></th>\n",
       "      <th>Age</th>\n",
       "      <th>Tumor Size</th>\n",
       "      <th>Regional Node Examined</th>\n",
       "      <th>Reginol Node Positive</th>\n",
       "      <th>Survival Months</th>\n",
       "    </tr>\n",
       "  </thead>\n",
       "  <tbody>\n",
       "    <tr>\n",
       "      <th>count</th>\n",
       "      <td>1.924000e+03</td>\n",
       "      <td>1.924000e+03</td>\n",
       "      <td>1.924000e+03</td>\n",
       "      <td>1.924000e+03</td>\n",
       "      <td>1.924000e+03</td>\n",
       "    </tr>\n",
       "    <tr>\n",
       "      <th>mean</th>\n",
       "      <td>-3.563793e-16</td>\n",
       "      <td>-5.170269e-17</td>\n",
       "      <td>-8.309362e-17</td>\n",
       "      <td>1.477220e-17</td>\n",
       "      <td>2.612833e-16</td>\n",
       "    </tr>\n",
       "    <tr>\n",
       "      <th>std</th>\n",
       "      <td>1.000260e+00</td>\n",
       "      <td>1.000260e+00</td>\n",
       "      <td>1.000260e+00</td>\n",
       "      <td>1.000260e+00</td>\n",
       "      <td>1.000260e+00</td>\n",
       "    </tr>\n",
       "    <tr>\n",
       "      <th>min</th>\n",
       "      <td>-2.668855e+00</td>\n",
       "      <td>-1.758590e+00</td>\n",
       "      <td>-1.685804e+00</td>\n",
       "      <td>-7.336341e-01</td>\n",
       "      <td>-3.029548e+00</td>\n",
       "    </tr>\n",
       "    <tr>\n",
       "      <th>25%</th>\n",
       "      <td>-7.806650e-01</td>\n",
       "      <td>-7.478274e-01</td>\n",
       "      <td>-7.072921e-01</td>\n",
       "      <td>-7.336341e-01</td>\n",
       "      <td>-7.253943e-01</td>\n",
       "    </tr>\n",
       "    <tr>\n",
       "      <th>50%</th>\n",
       "      <td>-3.175078e-03</td>\n",
       "      <td>-2.424463e-01</td>\n",
       "      <td>-8.355274e-03</td>\n",
       "      <td>-3.227136e-01</td>\n",
       "      <td>7.400586e-02</td>\n",
       "    </tr>\n",
       "    <tr>\n",
       "      <th>75%</th>\n",
       "      <td>8.020823e-01</td>\n",
       "      <td>4.795266e-01</td>\n",
       "      <td>6.905816e-01</td>\n",
       "      <td>4.991275e-01</td>\n",
       "      <td>8.263825e-01</td>\n",
       "    </tr>\n",
       "    <tr>\n",
       "      <th>max</th>\n",
       "      <td>1.662875e+00</td>\n",
       "      <td>3.150827e+00</td>\n",
       "      <td>2.927179e+00</td>\n",
       "      <td>3.375571e+00</td>\n",
       "      <td>1.578759e+00</td>\n",
       "    </tr>\n",
       "  </tbody>\n",
       "</table>\n",
       "</div>"
      ],
      "text/plain": [
       "                Age    Tumor Size  Regional Node Examined  \\\n",
       "count  1.924000e+03  1.924000e+03            1.924000e+03   \n",
       "mean  -3.563793e-16 -5.170269e-17           -8.309362e-17   \n",
       "std    1.000260e+00  1.000260e+00            1.000260e+00   \n",
       "min   -2.668855e+00 -1.758590e+00           -1.685804e+00   \n",
       "25%   -7.806650e-01 -7.478274e-01           -7.072921e-01   \n",
       "50%   -3.175078e-03 -2.424463e-01           -8.355274e-03   \n",
       "75%    8.020823e-01  4.795266e-01            6.905816e-01   \n",
       "max    1.662875e+00  3.150827e+00            2.927179e+00   \n",
       "\n",
       "       Reginol Node Positive  Survival Months  \n",
       "count           1.924000e+03     1.924000e+03  \n",
       "mean            1.477220e-17     2.612833e-16  \n",
       "std             1.000260e+00     1.000260e+00  \n",
       "min            -7.336341e-01    -3.029548e+00  \n",
       "25%            -7.336341e-01    -7.253943e-01  \n",
       "50%            -3.227136e-01     7.400586e-02  \n",
       "75%             4.991275e-01     8.263825e-01  \n",
       "max             3.375571e+00     1.578759e+00  "
      ]
     },
     "execution_count": 14,
     "metadata": {},
     "output_type": "execute_result"
    }
   ],
   "source": [
    "#The Data is now Standardized\n",
    "data_missing_removed.describe()"
   ]
  },
  {
   "cell_type": "markdown",
   "metadata": {
    "id": "BfB6HZ2fo8By"
   },
   "source": [
    "### Encoding Categorical Variables"
   ]
  },
  {
   "cell_type": "code",
   "execution_count": 15,
   "metadata": {
    "colab": {
     "base_uri": "https://localhost:8080/"
    },
    "id": "KmKEDjgHpBQw",
    "outputId": "485601cf-ecb7-4cc3-98a7-cbae3de9c5f6"
   },
   "outputs": [
    {
     "name": "stderr",
     "output_type": "stream",
     "text": [
      "/var/folders/8q/g9__pn951hx3tknrzhyt96lh0000gn/T/ipykernel_52961/2463201698.py:5: SettingWithCopyWarning: \n",
      "A value is trying to be set on a copy of a slice from a DataFrame.\n",
      "Try using .loc[row_indexer,col_indexer] = value instead\n",
      "\n",
      "See the caveats in the documentation: https://pandas.pydata.org/pandas-docs/stable/user_guide/indexing.html#returning-a-view-versus-a-copy\n",
      "  data_missing_removed[col] = le.fit_transform(data_missing_removed[col])\n",
      "/var/folders/8q/g9__pn951hx3tknrzhyt96lh0000gn/T/ipykernel_52961/2463201698.py:5: SettingWithCopyWarning: \n",
      "A value is trying to be set on a copy of a slice from a DataFrame.\n",
      "Try using .loc[row_indexer,col_indexer] = value instead\n",
      "\n",
      "See the caveats in the documentation: https://pandas.pydata.org/pandas-docs/stable/user_guide/indexing.html#returning-a-view-versus-a-copy\n",
      "  data_missing_removed[col] = le.fit_transform(data_missing_removed[col])\n",
      "/var/folders/8q/g9__pn951hx3tknrzhyt96lh0000gn/T/ipykernel_52961/2463201698.py:5: SettingWithCopyWarning: \n",
      "A value is trying to be set on a copy of a slice from a DataFrame.\n",
      "Try using .loc[row_indexer,col_indexer] = value instead\n",
      "\n",
      "See the caveats in the documentation: https://pandas.pydata.org/pandas-docs/stable/user_guide/indexing.html#returning-a-view-versus-a-copy\n",
      "  data_missing_removed[col] = le.fit_transform(data_missing_removed[col])\n",
      "/var/folders/8q/g9__pn951hx3tknrzhyt96lh0000gn/T/ipykernel_52961/2463201698.py:5: SettingWithCopyWarning: \n",
      "A value is trying to be set on a copy of a slice from a DataFrame.\n",
      "Try using .loc[row_indexer,col_indexer] = value instead\n",
      "\n",
      "See the caveats in the documentation: https://pandas.pydata.org/pandas-docs/stable/user_guide/indexing.html#returning-a-view-versus-a-copy\n",
      "  data_missing_removed[col] = le.fit_transform(data_missing_removed[col])\n",
      "/var/folders/8q/g9__pn951hx3tknrzhyt96lh0000gn/T/ipykernel_52961/2463201698.py:5: SettingWithCopyWarning: \n",
      "A value is trying to be set on a copy of a slice from a DataFrame.\n",
      "Try using .loc[row_indexer,col_indexer] = value instead\n",
      "\n",
      "See the caveats in the documentation: https://pandas.pydata.org/pandas-docs/stable/user_guide/indexing.html#returning-a-view-versus-a-copy\n",
      "  data_missing_removed[col] = le.fit_transform(data_missing_removed[col])\n",
      "/var/folders/8q/g9__pn951hx3tknrzhyt96lh0000gn/T/ipykernel_52961/2463201698.py:5: SettingWithCopyWarning: \n",
      "A value is trying to be set on a copy of a slice from a DataFrame.\n",
      "Try using .loc[row_indexer,col_indexer] = value instead\n",
      "\n",
      "See the caveats in the documentation: https://pandas.pydata.org/pandas-docs/stable/user_guide/indexing.html#returning-a-view-versus-a-copy\n",
      "  data_missing_removed[col] = le.fit_transform(data_missing_removed[col])\n",
      "/var/folders/8q/g9__pn951hx3tknrzhyt96lh0000gn/T/ipykernel_52961/2463201698.py:5: SettingWithCopyWarning: \n",
      "A value is trying to be set on a copy of a slice from a DataFrame.\n",
      "Try using .loc[row_indexer,col_indexer] = value instead\n",
      "\n",
      "See the caveats in the documentation: https://pandas.pydata.org/pandas-docs/stable/user_guide/indexing.html#returning-a-view-versus-a-copy\n",
      "  data_missing_removed[col] = le.fit_transform(data_missing_removed[col])\n",
      "/var/folders/8q/g9__pn951hx3tknrzhyt96lh0000gn/T/ipykernel_52961/2463201698.py:5: SettingWithCopyWarning: \n",
      "A value is trying to be set on a copy of a slice from a DataFrame.\n",
      "Try using .loc[row_indexer,col_indexer] = value instead\n",
      "\n",
      "See the caveats in the documentation: https://pandas.pydata.org/pandas-docs/stable/user_guide/indexing.html#returning-a-view-versus-a-copy\n",
      "  data_missing_removed[col] = le.fit_transform(data_missing_removed[col])\n",
      "/var/folders/8q/g9__pn951hx3tknrzhyt96lh0000gn/T/ipykernel_52961/2463201698.py:5: SettingWithCopyWarning: \n",
      "A value is trying to be set on a copy of a slice from a DataFrame.\n",
      "Try using .loc[row_indexer,col_indexer] = value instead\n",
      "\n",
      "See the caveats in the documentation: https://pandas.pydata.org/pandas-docs/stable/user_guide/indexing.html#returning-a-view-versus-a-copy\n",
      "  data_missing_removed[col] = le.fit_transform(data_missing_removed[col])\n",
      "/var/folders/8q/g9__pn951hx3tknrzhyt96lh0000gn/T/ipykernel_52961/2463201698.py:5: SettingWithCopyWarning: \n",
      "A value is trying to be set on a copy of a slice from a DataFrame.\n",
      "Try using .loc[row_indexer,col_indexer] = value instead\n",
      "\n",
      "See the caveats in the documentation: https://pandas.pydata.org/pandas-docs/stable/user_guide/indexing.html#returning-a-view-versus-a-copy\n",
      "  data_missing_removed[col] = le.fit_transform(data_missing_removed[col])\n"
     ]
    }
   ],
   "source": [
    "#Encode Categorical Variables\n",
    "les ={}\n",
    "for col in data_missing_removed.iloc[:,:-1].select_dtypes(include=['object']).columns:\n",
    "  le = LabelEncoder()\n",
    "  data_missing_removed[col] = le.fit_transform(data_missing_removed[col])\n",
    "  les[col] = le"
   ]
  },
  {
   "cell_type": "markdown",
   "metadata": {
    "id": "TWUvhuHezf6Q"
   },
   "source": [
    "### Dimensionality Reduction"
   ]
  },
  {
   "cell_type": "markdown",
   "metadata": {
    "id": "7E8xN2oBLpRK"
   },
   "source": [
    "There are only 16 features:\n",
    "\n",
    "```\n",
    "data_missing_removed.shape\n",
    "(1924, 16)\n",
    "\n",
    "```\n",
    "Dimensionality Reduction is not necessary.\n"
   ]
  },
  {
   "cell_type": "markdown",
   "metadata": {
    "id": "D9u9cSYPq5zT"
   },
   "source": [
    "### Class Imbalance"
   ]
  },
  {
   "cell_type": "code",
   "execution_count": 16,
   "metadata": {
    "colab": {
     "base_uri": "https://localhost:8080/"
    },
    "id": "xZc9PG5pqycp",
    "outputId": "d12f8cd0-8566-4c4c-8e4f-0022edadaaa9"
   },
   "outputs": [
    {
     "name": "stdout",
     "output_type": "stream",
     "text": [
      "Alive: 84.69%\n",
      "Dead: 15.31%\n"
     ]
    }
   ],
   "source": [
    "#find the proportions of target variable\n",
    "for i in data['Status'].unique():\n",
    "    print(f\"{i}: {round((data['Status'].value_counts()[i]/data.shape[0])*100,2)}%\")"
   ]
  },
  {
   "cell_type": "markdown",
   "metadata": {
    "id": "yV63vC0Er76K"
   },
   "source": [
    "This imbalance means that before training a model, the data needs to be rid of its imbalance. This will be done for each model in the modelling section. Random Oversampling will be used."
   ]
  },
  {
   "cell_type": "markdown",
   "metadata": {
    "id": "DaFaRzcU5XTf"
   },
   "source": [
    "## Feature Selection"
   ]
  },
  {
   "cell_type": "code",
   "execution_count": 17,
   "metadata": {
    "id": "yzt7QDcvLiHV"
   },
   "outputs": [],
   "source": [
    "#copy data from preprocessing\n",
    "data_preprocessed = data_missing_removed.copy().reset_index(drop=True)"
   ]
  },
  {
   "cell_type": "code",
   "execution_count": 18,
   "metadata": {
    "colab": {
     "base_uri": "https://localhost:8080/",
     "height": 0
    },
    "id": "YlZ4CKMNLmI6",
    "outputId": "4624cce7-e4c0-400a-dfb9-e38bb7fbb028"
   },
   "outputs": [
    {
     "data": {
      "text/html": [
       "<div>\n",
       "<style scoped>\n",
       "    .dataframe tbody tr th:only-of-type {\n",
       "        vertical-align: middle;\n",
       "    }\n",
       "\n",
       "    .dataframe tbody tr th {\n",
       "        vertical-align: top;\n",
       "    }\n",
       "\n",
       "    .dataframe thead th {\n",
       "        text-align: right;\n",
       "    }\n",
       "</style>\n",
       "<table border=\"1\" class=\"dataframe\">\n",
       "  <thead>\n",
       "    <tr style=\"text-align: right;\">\n",
       "      <th></th>\n",
       "      <th>Feature</th>\n",
       "      <th>Score</th>\n",
       "      <th>P-Value</th>\n",
       "      <th>Selected</th>\n",
       "    </tr>\n",
       "  </thead>\n",
       "  <tbody>\n",
       "    <tr>\n",
       "      <th>0</th>\n",
       "      <td>Survival Months</td>\n",
       "      <td>492.198872</td>\n",
       "      <td>4.735489e-109</td>\n",
       "      <td>True</td>\n",
       "    </tr>\n",
       "    <tr>\n",
       "      <th>1</th>\n",
       "      <td>6th Stage</td>\n",
       "      <td>292.129089</td>\n",
       "      <td>1.708649e-65</td>\n",
       "      <td>True</td>\n",
       "    </tr>\n",
       "    <tr>\n",
       "      <th>2</th>\n",
       "      <td>Reginol Node Positive</td>\n",
       "      <td>169.770742</td>\n",
       "      <td>8.303074e-39</td>\n",
       "      <td>True</td>\n",
       "    </tr>\n",
       "    <tr>\n",
       "      <th>3</th>\n",
       "      <td>N Stage</td>\n",
       "      <td>94.405329</td>\n",
       "      <td>2.570991e-22</td>\n",
       "      <td>True</td>\n",
       "    </tr>\n",
       "    <tr>\n",
       "      <th>4</th>\n",
       "      <td>Grade</td>\n",
       "      <td>39.789743</td>\n",
       "      <td>2.828265e-10</td>\n",
       "      <td>True</td>\n",
       "    </tr>\n",
       "    <tr>\n",
       "      <th>5</th>\n",
       "      <td>T Stage</td>\n",
       "      <td>38.942035</td>\n",
       "      <td>4.365779e-10</td>\n",
       "      <td>True</td>\n",
       "    </tr>\n",
       "    <tr>\n",
       "      <th>6</th>\n",
       "      <td>differentiate</td>\n",
       "      <td>16.997526</td>\n",
       "      <td>3.742856e-05</td>\n",
       "      <td>True</td>\n",
       "    </tr>\n",
       "    <tr>\n",
       "      <th>7</th>\n",
       "      <td>Marital Status</td>\n",
       "      <td>11.435175</td>\n",
       "      <td>7.206667e-04</td>\n",
       "      <td>True</td>\n",
       "    </tr>\n",
       "    <tr>\n",
       "      <th>8</th>\n",
       "      <td>Progesterone Status</td>\n",
       "      <td>6.471745</td>\n",
       "      <td>1.096028e-02</td>\n",
       "      <td>True</td>\n",
       "    </tr>\n",
       "    <tr>\n",
       "      <th>9</th>\n",
       "      <td>Age</td>\n",
       "      <td>4.041340</td>\n",
       "      <td>4.439857e-02</td>\n",
       "      <td>True</td>\n",
       "    </tr>\n",
       "  </tbody>\n",
       "</table>\n",
       "</div>"
      ],
      "text/plain": [
       "                 Feature       Score        P-Value  Selected\n",
       "0        Survival Months  492.198872  4.735489e-109      True\n",
       "1              6th Stage  292.129089   1.708649e-65      True\n",
       "2  Reginol Node Positive  169.770742   8.303074e-39      True\n",
       "3                N Stage   94.405329   2.570991e-22      True\n",
       "4                  Grade   39.789743   2.828265e-10      True\n",
       "5               T Stage    38.942035   4.365779e-10      True\n",
       "6          differentiate   16.997526   3.742856e-05      True\n",
       "7         Marital Status   11.435175   7.206667e-04      True\n",
       "8    Progesterone Status    6.471745   1.096028e-02      True\n",
       "9                    Age    4.041340   4.439857e-02      True"
      ]
     },
     "execution_count": 18,
     "metadata": {},
     "output_type": "execute_result"
    }
   ],
   "source": [
    "#encode labels\n",
    "data_bfs = data_preprocessed.copy()\n",
    "\n",
    "#ensure no negative values\n",
    "for col in data_bfs.iloc[:,:-1].columns:\n",
    "  data_bfs[col] = data_bfs[col].apply(lambda x:x**2)\n",
    "\n",
    "#implement SelectKBest\n",
    "selector = SelectKBest(score_func=chi2,k=10)\n",
    "X_selected = selector.fit_transform(data_bfs.iloc[:,:-1],data_preprocessed.iloc[:,-1])\n",
    "\n",
    "#features selected\n",
    "feature_scores = selector.scores_\n",
    "feature_pvalues = selector.pvalues_\n",
    "feature_names = data_bfs.iloc[:,:-1].columns\n",
    "selected_mask = selector.get_support()\n",
    "\n",
    "#make dataframe with features and scores\n",
    "results_df = pd.DataFrame({\n",
    "    'Feature': feature_names,\n",
    "    'Score': feature_scores,\n",
    "    'P-Value': feature_pvalues,\n",
    "    'Selected': selected_mask\n",
    "}).sort_values(by='Score', ascending=False)  # Sort by score\n",
    "results_df.reset_index(drop=True, inplace=True)\n",
    "results_df[results_df['Selected']==True]"
   ]
  },
  {
   "cell_type": "code",
   "execution_count": 19,
   "metadata": {
    "id": "FiqrwloPe6MG"
   },
   "outputs": [],
   "source": [
    "results_df.to_csv('feature_selection_table.csv')"
   ]
  },
  {
   "cell_type": "code",
   "execution_count": 20,
   "metadata": {
    "colab": {
     "base_uri": "https://localhost:8080/",
     "height": 0
    },
    "id": "wLfvR1XylTUq",
    "outputId": "392e1114-ead3-4f22-fc31-2e3d0685995f"
   },
   "outputs": [
    {
     "data": {
      "text/html": [
       "<div>\n",
       "<style scoped>\n",
       "    .dataframe tbody tr th:only-of-type {\n",
       "        vertical-align: middle;\n",
       "    }\n",
       "\n",
       "    .dataframe tbody tr th {\n",
       "        vertical-align: top;\n",
       "    }\n",
       "\n",
       "    .dataframe thead th {\n",
       "        text-align: right;\n",
       "    }\n",
       "</style>\n",
       "<table border=\"1\" class=\"dataframe\">\n",
       "  <thead>\n",
       "    <tr style=\"text-align: right;\">\n",
       "      <th></th>\n",
       "      <th>Age</th>\n",
       "      <th>Race</th>\n",
       "      <th>Marital Status</th>\n",
       "      <th>T Stage</th>\n",
       "      <th>N Stage</th>\n",
       "      <th>6th Stage</th>\n",
       "      <th>differentiate</th>\n",
       "      <th>Grade</th>\n",
       "      <th>A Stage</th>\n",
       "      <th>Tumor Size</th>\n",
       "      <th>Estrogen Status</th>\n",
       "      <th>Progesterone Status</th>\n",
       "      <th>Regional Node Examined</th>\n",
       "      <th>Reginol Node Positive</th>\n",
       "      <th>Survival Months</th>\n",
       "      <th>Status</th>\n",
       "    </tr>\n",
       "  </thead>\n",
       "  <tbody>\n",
       "    <tr>\n",
       "      <th>0</th>\n",
       "      <td>2.408098</td>\n",
       "      <td>4</td>\n",
       "      <td>1</td>\n",
       "      <td>0</td>\n",
       "      <td>0</td>\n",
       "      <td>0</td>\n",
       "      <td>1</td>\n",
       "      <td>9</td>\n",
       "      <td>1</td>\n",
       "      <td>2.377757</td>\n",
       "      <td>1</td>\n",
       "      <td>1</td>\n",
       "      <td>2.338776</td>\n",
       "      <td>0.538219</td>\n",
       "      <td>0.398599</td>\n",
       "      <td>Alive</td>\n",
       "    </tr>\n",
       "    <tr>\n",
       "      <th>1</th>\n",
       "      <td>0.194574</td>\n",
       "      <td>4</td>\n",
       "      <td>0</td>\n",
       "      <td>4</td>\n",
       "      <td>4</td>\n",
       "      <td>16</td>\n",
       "      <td>0</td>\n",
       "      <td>4</td>\n",
       "      <td>1</td>\n",
       "      <td>7.385583</td>\n",
       "      <td>1</td>\n",
       "      <td>1</td>\n",
       "      <td>0.017274</td>\n",
       "      <td>2.999439</td>\n",
       "      <td>0.005477</td>\n",
       "      <td>Alive</td>\n",
       "    </tr>\n",
       "    <tr>\n",
       "      <th>2</th>\n",
       "      <td>0.113155</td>\n",
       "      <td>4</td>\n",
       "      <td>9</td>\n",
       "      <td>0</td>\n",
       "      <td>0</td>\n",
       "      <td>0</td>\n",
       "      <td>0</td>\n",
       "      <td>4</td>\n",
       "      <td>1</td>\n",
       "      <td>0.149646</td>\n",
       "      <td>1</td>\n",
       "      <td>1</td>\n",
       "      <td>0.476903</td>\n",
       "      <td>0.104144</td>\n",
       "      <td>0.536315</td>\n",
       "      <td>Alive</td>\n",
       "    </tr>\n",
       "    <tr>\n",
       "      <th>3</th>\n",
       "      <td>0.113155</td>\n",
       "      <td>4</td>\n",
       "      <td>1</td>\n",
       "      <td>0</td>\n",
       "      <td>0</td>\n",
       "      <td>0</td>\n",
       "      <td>9</td>\n",
       "      <td>1</td>\n",
       "      <td>1</td>\n",
       "      <td>1.570532</td>\n",
       "      <td>1</td>\n",
       "      <td>1</td>\n",
       "      <td>0.082904</td>\n",
       "      <td>0.538219</td>\n",
       "      <td>0.834461</td>\n",
       "      <td>Alive</td>\n",
       "    </tr>\n",
       "    <tr>\n",
       "      <th>4</th>\n",
       "      <td>2.427847</td>\n",
       "      <td>4</td>\n",
       "      <td>1</td>\n",
       "      <td>1</td>\n",
       "      <td>0</td>\n",
       "      <td>1</td>\n",
       "      <td>0</td>\n",
       "      <td>4</td>\n",
       "      <td>1</td>\n",
       "      <td>0.112313</td>\n",
       "      <td>1</td>\n",
       "      <td>1</td>\n",
       "      <td>0.322062</td>\n",
       "      <td>0.538219</td>\n",
       "      <td>7.808840</td>\n",
       "      <td>Dead</td>\n",
       "    </tr>\n",
       "    <tr>\n",
       "      <th>...</th>\n",
       "      <td>...</td>\n",
       "      <td>...</td>\n",
       "      <td>...</td>\n",
       "      <td>...</td>\n",
       "      <td>...</td>\n",
       "      <td>...</td>\n",
       "      <td>...</td>\n",
       "      <td>...</td>\n",
       "      <td>...</td>\n",
       "      <td>...</td>\n",
       "      <td>...</td>\n",
       "      <td>...</td>\n",
       "      <td>...</td>\n",
       "      <td>...</td>\n",
       "      <td>...</td>\n",
       "      <td>...</td>\n",
       "    </tr>\n",
       "    <tr>\n",
       "      <th>1919</th>\n",
       "      <td>1.484973</td>\n",
       "      <td>4</td>\n",
       "      <td>1</td>\n",
       "      <td>1</td>\n",
       "      <td>1</td>\n",
       "      <td>4</td>\n",
       "      <td>0</td>\n",
       "      <td>4</td>\n",
       "      <td>1</td>\n",
       "      <td>1.117471</td>\n",
       "      <td>1</td>\n",
       "      <td>1</td>\n",
       "      <td>1.603874</td>\n",
       "      <td>0.249128</td>\n",
       "      <td>0.065106</td>\n",
       "      <td>Alive</td>\n",
       "    </tr>\n",
       "    <tr>\n",
       "      <th>1920</th>\n",
       "      <td>0.000010</td>\n",
       "      <td>4</td>\n",
       "      <td>1</td>\n",
       "      <td>1</td>\n",
       "      <td>0</td>\n",
       "      <td>1</td>\n",
       "      <td>9</td>\n",
       "      <td>1</td>\n",
       "      <td>1</td>\n",
       "      <td>3.165119</td>\n",
       "      <td>1</td>\n",
       "      <td>1</td>\n",
       "      <td>4.965065</td>\n",
       "      <td>0.104144</td>\n",
       "      <td>1.015128</td>\n",
       "      <td>Alive</td>\n",
       "    </tr>\n",
       "    <tr>\n",
       "      <th>1921</th>\n",
       "      <td>0.795191</td>\n",
       "      <td>4</td>\n",
       "      <td>1</td>\n",
       "      <td>1</td>\n",
       "      <td>0</td>\n",
       "      <td>1</td>\n",
       "      <td>0</td>\n",
       "      <td>4</td>\n",
       "      <td>1</td>\n",
       "      <td>0.036381</td>\n",
       "      <td>0</td>\n",
       "      <td>0</td>\n",
       "      <td>2.390166</td>\n",
       "      <td>0.538219</td>\n",
       "      <td>6.550080</td>\n",
       "      <td>Dead</td>\n",
       "    </tr>\n",
       "    <tr>\n",
       "      <th>1922</th>\n",
       "      <td>2.408098</td>\n",
       "      <td>4</td>\n",
       "      <td>1</td>\n",
       "      <td>1</td>\n",
       "      <td>0</td>\n",
       "      <td>1</td>\n",
       "      <td>0</td>\n",
       "      <td>4</td>\n",
       "      <td>1</td>\n",
       "      <td>0.058780</td>\n",
       "      <td>1</td>\n",
       "      <td>0</td>\n",
       "      <td>0.082904</td>\n",
       "      <td>0.007780</td>\n",
       "      <td>0.043320</td>\n",
       "      <td>Alive</td>\n",
       "    </tr>\n",
       "    <tr>\n",
       "      <th>1923</th>\n",
       "      <td>0.194574</td>\n",
       "      <td>0</td>\n",
       "      <td>0</td>\n",
       "      <td>1</td>\n",
       "      <td>0</td>\n",
       "      <td>1</td>\n",
       "      <td>0</td>\n",
       "      <td>4</td>\n",
       "      <td>1</td>\n",
       "      <td>1.811431</td>\n",
       "      <td>1</td>\n",
       "      <td>1</td>\n",
       "      <td>0.082904</td>\n",
       "      <td>0.538219</td>\n",
       "      <td>0.004498</td>\n",
       "      <td>Alive</td>\n",
       "    </tr>\n",
       "  </tbody>\n",
       "</table>\n",
       "<p>1924 rows × 16 columns</p>\n",
       "</div>"
      ],
      "text/plain": [
       "           Age  Race  Marital Status  T Stage   N Stage  6th Stage  \\\n",
       "0     2.408098     4               1         0        0          0   \n",
       "1     0.194574     4               0         4        4         16   \n",
       "2     0.113155     4               9         0        0          0   \n",
       "3     0.113155     4               1         0        0          0   \n",
       "4     2.427847     4               1         1        0          1   \n",
       "...        ...   ...             ...       ...      ...        ...   \n",
       "1919  1.484973     4               1         1        1          4   \n",
       "1920  0.000010     4               1         1        0          1   \n",
       "1921  0.795191     4               1         1        0          1   \n",
       "1922  2.408098     4               1         1        0          1   \n",
       "1923  0.194574     0               0         1        0          1   \n",
       "\n",
       "      differentiate  Grade  A Stage  Tumor Size  Estrogen Status  \\\n",
       "0                 1      9        1    2.377757                1   \n",
       "1                 0      4        1    7.385583                1   \n",
       "2                 0      4        1    0.149646                1   \n",
       "3                 9      1        1    1.570532                1   \n",
       "4                 0      4        1    0.112313                1   \n",
       "...             ...    ...      ...         ...              ...   \n",
       "1919              0      4        1    1.117471                1   \n",
       "1920              9      1        1    3.165119                1   \n",
       "1921              0      4        1    0.036381                0   \n",
       "1922              0      4        1    0.058780                1   \n",
       "1923              0      4        1    1.811431                1   \n",
       "\n",
       "      Progesterone Status  Regional Node Examined  Reginol Node Positive  \\\n",
       "0                       1                2.338776               0.538219   \n",
       "1                       1                0.017274               2.999439   \n",
       "2                       1                0.476903               0.104144   \n",
       "3                       1                0.082904               0.538219   \n",
       "4                       1                0.322062               0.538219   \n",
       "...                   ...                     ...                    ...   \n",
       "1919                    1                1.603874               0.249128   \n",
       "1920                    1                4.965065               0.104144   \n",
       "1921                    0                2.390166               0.538219   \n",
       "1922                    0                0.082904               0.007780   \n",
       "1923                    1                0.082904               0.538219   \n",
       "\n",
       "      Survival Months Status  \n",
       "0            0.398599  Alive  \n",
       "1            0.005477  Alive  \n",
       "2            0.536315  Alive  \n",
       "3            0.834461  Alive  \n",
       "4            7.808840   Dead  \n",
       "...               ...    ...  \n",
       "1919         0.065106  Alive  \n",
       "1920         1.015128  Alive  \n",
       "1921         6.550080   Dead  \n",
       "1922         0.043320  Alive  \n",
       "1923         0.004498  Alive  \n",
       "\n",
       "[1924 rows x 16 columns]"
      ]
     },
     "execution_count": 20,
     "metadata": {},
     "output_type": "execute_result"
    }
   ],
   "source": [
    "data_bfs"
   ]
  },
  {
   "cell_type": "code",
   "execution_count": 21,
   "metadata": {
    "colab": {
     "base_uri": "https://localhost:8080/",
     "height": 0
    },
    "id": "aib68OedzC1T",
    "outputId": "de938e00-3c10-47ec-c972-f9c95c9ba65e"
   },
   "outputs": [
    {
     "data": {
      "text/html": [
       "<div>\n",
       "<style scoped>\n",
       "    .dataframe tbody tr th:only-of-type {\n",
       "        vertical-align: middle;\n",
       "    }\n",
       "\n",
       "    .dataframe tbody tr th {\n",
       "        vertical-align: top;\n",
       "    }\n",
       "\n",
       "    .dataframe thead th {\n",
       "        text-align: right;\n",
       "    }\n",
       "</style>\n",
       "<table border=\"1\" class=\"dataframe\">\n",
       "  <thead>\n",
       "    <tr style=\"text-align: right;\">\n",
       "      <th></th>\n",
       "      <th>Age</th>\n",
       "      <th>Marital Status</th>\n",
       "      <th>T Stage</th>\n",
       "      <th>N Stage</th>\n",
       "      <th>6th Stage</th>\n",
       "      <th>differentiate</th>\n",
       "      <th>Grade</th>\n",
       "      <th>Progesterone Status</th>\n",
       "      <th>Reginol Node Positive</th>\n",
       "      <th>Survival Months</th>\n",
       "      <th>Status</th>\n",
       "    </tr>\n",
       "  </thead>\n",
       "  <tbody>\n",
       "    <tr>\n",
       "      <th>0</th>\n",
       "      <td>1.551805</td>\n",
       "      <td>1</td>\n",
       "      <td>0</td>\n",
       "      <td>0</td>\n",
       "      <td>0</td>\n",
       "      <td>1</td>\n",
       "      <td>3</td>\n",
       "      <td>1</td>\n",
       "      <td>-0.733634</td>\n",
       "      <td>-0.631347</td>\n",
       "      <td>Alive</td>\n",
       "    </tr>\n",
       "    <tr>\n",
       "      <th>1</th>\n",
       "      <td>0.441105</td>\n",
       "      <td>0</td>\n",
       "      <td>2</td>\n",
       "      <td>2</td>\n",
       "      <td>4</td>\n",
       "      <td>0</td>\n",
       "      <td>2</td>\n",
       "      <td>1</td>\n",
       "      <td>1.731889</td>\n",
       "      <td>0.074006</td>\n",
       "      <td>Alive</td>\n",
       "    </tr>\n",
       "    <tr>\n",
       "      <th>2</th>\n",
       "      <td>-0.336385</td>\n",
       "      <td>3</td>\n",
       "      <td>0</td>\n",
       "      <td>0</td>\n",
       "      <td>0</td>\n",
       "      <td>0</td>\n",
       "      <td>2</td>\n",
       "      <td>1</td>\n",
       "      <td>-0.322714</td>\n",
       "      <td>0.732335</td>\n",
       "      <td>Alive</td>\n",
       "    </tr>\n",
       "    <tr>\n",
       "      <th>3</th>\n",
       "      <td>-0.336385</td>\n",
       "      <td>1</td>\n",
       "      <td>0</td>\n",
       "      <td>0</td>\n",
       "      <td>0</td>\n",
       "      <td>3</td>\n",
       "      <td>1</td>\n",
       "      <td>1</td>\n",
       "      <td>-0.733634</td>\n",
       "      <td>-0.913488</td>\n",
       "      <td>Alive</td>\n",
       "    </tr>\n",
       "    <tr>\n",
       "      <th>4</th>\n",
       "      <td>-1.558155</td>\n",
       "      <td>1</td>\n",
       "      <td>1</td>\n",
       "      <td>0</td>\n",
       "      <td>1</td>\n",
       "      <td>0</td>\n",
       "      <td>2</td>\n",
       "      <td>1</td>\n",
       "      <td>-0.733634</td>\n",
       "      <td>-2.794430</td>\n",
       "      <td>Dead</td>\n",
       "    </tr>\n",
       "  </tbody>\n",
       "</table>\n",
       "</div>"
      ],
      "text/plain": [
       "        Age  Marital Status  T Stage   N Stage  6th Stage  differentiate  \\\n",
       "0  1.551805               1         0        0          0              1   \n",
       "1  0.441105               0         2        2          4              0   \n",
       "2 -0.336385               3         0        0          0              0   \n",
       "3 -0.336385               1         0        0          0              3   \n",
       "4 -1.558155               1         1        0          1              0   \n",
       "\n",
       "   Grade  Progesterone Status  Reginol Node Positive  Survival Months Status  \n",
       "0      3                    1              -0.733634        -0.631347  Alive  \n",
       "1      2                    1               1.731889         0.074006  Alive  \n",
       "2      2                    1              -0.322714         0.732335  Alive  \n",
       "3      1                    1              -0.733634        -0.913488  Alive  \n",
       "4      2                    1              -0.733634        -2.794430   Dead  "
      ]
     },
     "execution_count": 21,
     "metadata": {},
     "output_type": "execute_result"
    }
   ],
   "source": [
    "#filter data to only include selected features\n",
    "selected_feature_names = data_bfs.iloc[:,:-1].columns[selector.get_support()]\n",
    "#add name of status column to selected_feature_names\n",
    "selected_feature_names = np.append(selected_feature_names,data_preprocessed.columns[-1])\n",
    "data_feature_selected = data_preprocessed.copy()\n",
    "data_feature_selected = data_feature_selected.loc[:,selected_feature_names]\n",
    "data_feature_selected.head()"
   ]
  },
  {
   "cell_type": "markdown",
   "metadata": {
    "id": "zpUK9HkeL9DD"
   },
   "source": [
    "## Modeling"
   ]
  },
  {
   "cell_type": "markdown",
   "metadata": {
    "id": "2qPpfulw6e60"
   },
   "source": [
    "### KNN"
   ]
  },
  {
   "cell_type": "code",
   "execution_count": 22,
   "metadata": {
    "colab": {
     "base_uri": "https://localhost:8080/"
    },
    "id": "8MG6Nt_Tbqjy",
    "outputId": "71cf3993-c1f1-44d3-897b-bd3806362c63"
   },
   "outputs": [
    {
     "name": "stdout",
     "output_type": "stream",
     "text": [
      "Accuracy: 0.7714285714285715\n",
      "------------------------------\n",
      "Classification Report:\n",
      "               precision    recall  f1-score   support\n",
      "\n",
      "       Alive       0.93      0.79      0.86       334\n",
      "        Dead       0.32      0.63      0.42        51\n",
      "\n",
      "    accuracy                           0.77       385\n",
      "   macro avg       0.62      0.71      0.64       385\n",
      "weighted avg       0.85      0.77      0.80       385\n",
      "\n",
      "------------------------------\n",
      "Confusion Matrix: [[265  69]\n",
      " [ 19  32]]\n"
     ]
    }
   ],
   "source": [
    "#Run KNN\n",
    "data_knn = data_feature_selected.copy()\n",
    "\n",
    "X_train, X_test, y_train, y_test = train_test_split(\n",
    "    data_knn.iloc[:,:-1],\n",
    "    data_knn.iloc[:,-1],\n",
    "    test_size=0.2,\n",
    "    random_state=42)\n",
    "\n",
    "#Resampple\n",
    "rand_os = RandomOverSampler(random_state=42)\n",
    "X_train, y_train = rand_os.fit_resample(X_train, y_train)\n",
    "\n",
    "#Define functions for implementation\n",
    "def euclidean_distance(x1, x2):\n",
    "    return np.sqrt(np.sum((x1 - x2)**2))\n",
    "\n",
    "def knn_classify(X_train, y_train, X_test, k=5):\n",
    "    y_pred = []\n",
    "\n",
    "    for test_point in X_test.values:\n",
    "        distances = [euclidean_distance(test_point, train_point) for train_point in X_train.values] #Similarity Matrix\n",
    "        k_nearest_indices = np.argsort(distances)[:k]  #Look for nearest neighbours\n",
    "        k_nearest_labels = [y_train.iloc[i] for i in k_nearest_indices]\n",
    "        #Predict the label\n",
    "        predicted_label = max(set(k_nearest_labels), key=k_nearest_labels.count)\n",
    "        y_pred.append(predicted_label)\n",
    "\n",
    "    return np.array(y_pred)\n",
    "\n",
    "\n",
    "#Predict on test set\n",
    "y_pred = knn_classify(X_train, y_train, X_test, k=5)\n",
    "\n",
    "#Evaluate KNN\n",
    "print(f\"Accuracy: {accuracy_score(y_test, y_pred)}\")\n",
    "print(\"---\"*10)\n",
    "print(f\"Classification Report:\\n {classification_report(y_test, y_pred)}\")\n",
    "print(\"---\"*10)\n",
    "print(f\"Confusion Matrix: {confusion_matrix(y_test, y_pred)}\")\n",
    "\n",
    "#Save Dead Class Precision, Recall, and Accuracy\n",
    "dead_class_precision = {\"KNN\":precision_score(y_test, y_pred, pos_label=\"Dead\")}\n",
    "dead_class_recall = {\"KNN\":recall_score(y_test, y_pred, pos_label=\"Dead\")}\n",
    "accuracy = {\"KNN\":accuracy_score(y_test, y_pred)}"
   ]
  },
  {
   "cell_type": "markdown",
   "metadata": {
    "id": "XfSBta9CkQ6z"
   },
   "source": [
    "### Naïve Bayes"
   ]
  },
  {
   "cell_type": "code",
   "execution_count": 23,
   "metadata": {
    "colab": {
     "base_uri": "https://localhost:8080/"
    },
    "id": "tGkJM6FFkT4Z",
    "outputId": "21cd0bda-6947-492b-f98a-b8c5ab5cd165"
   },
   "outputs": [
    {
     "name": "stdout",
     "output_type": "stream",
     "text": [
      "Accuracy: 0.7766233766233767\n",
      "------------------------------\n",
      "Classification Report:\n",
      "               precision    recall  f1-score   support\n",
      "\n",
      "       Alive       0.94      0.79      0.86       334\n",
      "        Dead       0.33      0.67      0.44        51\n",
      "\n",
      "    accuracy                           0.78       385\n",
      "   macro avg       0.63      0.73      0.65       385\n",
      "weighted avg       0.86      0.78      0.80       385\n",
      "\n",
      "------------------------------\n",
      "Confusion Matrix: [[265  69]\n",
      " [ 17  34]]\n"
     ]
    }
   ],
   "source": [
    "#Run Naive Bayes\n",
    "data_nb = data_feature_selected.copy()\n",
    "\n",
    "X_train, X_test, y_train, y_test = train_test_split(\n",
    "    data_nb.iloc[:,:-1],\n",
    "    data_nb.iloc[:,-1],\n",
    "    test_size=0.2,\n",
    "    random_state=42)\n",
    "\n",
    "#Resampple\n",
    "rand_os = RandomOverSampler(random_state=42)\n",
    "X_train, y_train = rand_os.fit_resample(X_train, y_train)\n",
    "\n",
    "#Train Naive Bayes Model\n",
    "nb = GaussianNB()\n",
    "nb.fit(X_train, y_train)\n",
    "\n",
    "#Predict on test set\n",
    "y_pred = nb.predict(X_test)\n",
    "\n",
    "#Evaluate Naive Bayes\n",
    "print(f\"Accuracy: {accuracy_score(y_test, y_pred)}\")\n",
    "print(\"---\"*10)\n",
    "print(f\"Classification Report:\\n {classification_report(y_test, y_pred)}\")\n",
    "print(\"---\"*10)\n",
    "print(f\"Confusion Matrix: {confusion_matrix(y_test, y_pred)}\")\n",
    "\n",
    "#Save Dead Class Precision, Recall, and Accuracy\n",
    "dead_class_precision[\"Naive Bayes\"] = precision_score(y_test, y_pred, pos_label=\"Dead\")\n",
    "dead_class_recall[\"Naive Bayes\"] = recall_score(y_test, y_pred, pos_label=\"Dead\")\n",
    "accuracy[\"Naive Bayes\"] = accuracy_score(y_test, y_pred)"
   ]
  },
  {
   "cell_type": "markdown",
   "metadata": {
    "id": "USDlu9NSn-br"
   },
   "source": [
    "### C4.5 Decision Tree"
   ]
  },
  {
   "cell_type": "code",
   "execution_count": 24,
   "metadata": {
    "colab": {
     "base_uri": "https://localhost:8080/",
     "height": 957
    },
    "id": "pu5X1EQ6oAQG",
    "outputId": "b3622739-daf6-4fa2-bb49-8913ff862ab1"
   },
   "outputs": [
    {
     "data": {
      "image/png": "[encoded data removed]",
      "text/plain": [
       "<Figure size 640x480 with 1 Axes>"
      ]
     },
     "metadata": {},
     "output_type": "display_data"
    },
    {
     "data": {
      "image/png": "[encoded data removed]",
      "text/plain": [
       "<Figure size 640x480 with 1 Axes>"
      ]
     },
     "metadata": {},
     "output_type": "display_data"
    }
   ],
   "source": [
    "#Run C4.5 Decision tree\n",
    "data_dt = data_feature_selected.copy()\n",
    "\n",
    "X_train, X_test, y_train, y_test = train_test_split(\n",
    "    data_dt.iloc[:,:-1],\n",
    "    data_dt.iloc[:,-1],\n",
    "    test_size=0.2,\n",
    "    random_state=42)\n",
    "\n",
    "#Resampple\n",
    "rand_os = RandomOverSampler(random_state=42)\n",
    "X_train, y_train = rand_os.fit_resample(X_train, y_train)\n",
    "\n",
    "cv_scores=[]\n",
    "\n",
    "#Check for best depth\n",
    "for i in range(1,21):\n",
    "  clf = DecisionTreeClassifier(criterion='entropy', max_depth=i, random_state=42)\n",
    "  scores = cross_val_score(clf, X_train, y_train, cv=10)\n",
    "  avg_score = scores.mean()\n",
    "  cv_scores = np.append(cv_scores,avg_score)\n",
    "\n",
    "\n",
    "#Visualise depth vs cv scores\n",
    "import matplotlib.pyplot as plt\n",
    "plt.plot(range(1,21), cv_scores, marker='o')\n",
    "plt.xlabel('Depth')\n",
    "plt.ylabel('Cross-Validation Score')\n",
    "plt.title('Depth vs. Cross-Validation Score')\n",
    "plt.xticks(range(1,21))\n",
    "plt.tight_layout()\n",
    "plt.grid(True)\n",
    "plt.show()\n",
    "\n",
    "\n",
    "#Check for precision score for class dead with different depths\n",
    "recall_scores = []\n",
    "for i in range(1,21):\n",
    "  clf = DecisionTreeClassifier(criterion='entropy', max_depth=i, random_state=42)\n",
    "  clf.fit(X_train, y_train)\n",
    "  y_pred = clf.predict(X_test)\n",
    "  recall_scores = np.append(recall_scores,recall_score(y_test,y_pred, average=None)[1])\n",
    "\n",
    "#Visualise\n",
    "plt.plot(range(1,21), recall_scores, marker='o')\n",
    "plt.xlabel('Depth')\n",
    "plt.ylabel('Dead Class Recall Score')\n",
    "plt.title('Depth vs. Dead Class Recall Score')\n",
    "plt.xticks(range(1,21))\n",
    "plt.tight_layout()\n",
    "plt.grid(True)\n",
    "plt.show()"
   ]
  },
  {
   "cell_type": "code",
   "execution_count": 25,
   "metadata": {
    "colab": {
     "base_uri": "https://localhost:8080/"
    },
    "id": "VVgFf318sOg8",
    "outputId": "99d72198-6d4c-47b4-aff0-9e6c16cd84e4"
   },
   "outputs": [
    {
     "name": "stdout",
     "output_type": "stream",
     "text": [
      "Accuracy: 0.7818181818181819\n",
      "------------------------------\n",
      "Classification Report:\n",
      "               precision    recall  f1-score   support\n",
      "\n",
      "       Alive       0.94      0.80      0.86       334\n",
      "        Dead       0.34      0.69      0.45        51\n",
      "\n",
      "    accuracy                           0.78       385\n",
      "   macro avg       0.64      0.74      0.66       385\n",
      "weighted avg       0.86      0.78      0.81       385\n",
      "\n",
      "------------------------------\n",
      "Confusion Matrix: [[266  68]\n",
      " [ 16  35]]\n",
      "|--- Survival Months <= -1.22\n",
      "|   |--- Age <= 0.83\n",
      "|   |   |--- class: Dead\n",
      "|   |--- Age >  0.83\n",
      "|   |   |--- class: Dead\n",
      "|--- Survival Months >  -1.22\n",
      "|   |--- Survival Months <= -0.65\n",
      "|   |   |--- class: Dead\n",
      "|   |--- Survival Months >  -0.65\n",
      "|   |   |--- class: Alive\n",
      "\n"
     ]
    }
   ],
   "source": [
    "#Train Decision Tree\n",
    "clf = DecisionTreeClassifier(criterion='entropy', max_depth=2, random_state=42)\n",
    "clf.fit(X_train, y_train)\n",
    "\n",
    "y_pred = clf.predict(X_test)\n",
    "\n",
    "#Evaluate Decision Tree\n",
    "print(f\"Accuracy: {accuracy_score(y_test, y_pred)}\")\n",
    "print(\"---\"*10)\n",
    "print(f\"Classification Report:\\n {classification_report(y_test, y_pred)}\")\n",
    "print(\"---\"*10)\n",
    "print(f\"Confusion Matrix: {confusion_matrix(y_test, y_pred)}\")\n",
    "\n",
    "#Visualise the decision tree\n",
    "print(export_text(clf, feature_names=data_dt.columns[:-1]))\n",
    "\n",
    "#Save Dead Class Precision, Recall, and Accuracy\n",
    "dead_class_precision[\"C4.5 Decision Tree\"] = precision_score(y_test, y_pred, pos_label=\"Dead\")\n",
    "dead_class_recall[\"C4.5 Decision Tree\"] = recall_score(y_test, y_pred, pos_label=\"Dead\")\n",
    "accuracy[\"C4.5 Decision Tree\"] = accuracy_score(y_test, y_pred)"
   ]
  },
  {
   "cell_type": "markdown",
   "metadata": {
    "id": "suQfzCCGqEsr"
   },
   "source": [
    "Still used standardised data here, given that I am not developing a model for real-life implementation, I decided that higher accuracy, precision, and recall would be better than complete explainability."
   ]
  },
  {
   "cell_type": "markdown",
   "metadata": {
    "id": "8QaueUi8CHgP"
   },
   "source": [
    "### Random Forest"
   ]
  },
  {
   "cell_type": "code",
   "execution_count": 26,
   "metadata": {
    "colab": {
     "base_uri": "https://localhost:8080/"
    },
    "id": "07Kza0uksCxs",
    "outputId": "77e1a498-149d-48ed-b674-30472dd4e35c"
   },
   "outputs": [
    {
     "name": "stdout",
     "output_type": "stream",
     "text": [
      "Accuracy: 0.8857142857142857\n",
      "------------------------------\n",
      "Classification Report:\n",
      "               precision    recall  f1-score   support\n",
      "\n",
      "       Alive       0.92      0.95      0.94       334\n",
      "        Dead       0.59      0.45      0.51        51\n",
      "\n",
      "    accuracy                           0.89       385\n",
      "   macro avg       0.75      0.70      0.72       385\n",
      "weighted avg       0.88      0.89      0.88       385\n",
      "\n",
      "------------------------------\n",
      "Confusion Matrix: [[318  16]\n",
      " [ 28  23]]\n"
     ]
    }
   ],
   "source": [
    "#Run Random Forest\n",
    "data_rf = data_feature_selected.copy()\n",
    "\n",
    "X_train, X_test, y_train, y_test = train_test_split(\n",
    "    data_rf.iloc[:,:-1],\n",
    "    data_rf.iloc[:,-1],\n",
    "    test_size=0.2,\n",
    "    random_state=42)\n",
    "\n",
    "#Resampple\n",
    "rand_os = RandomOverSampler(random_state=42)\n",
    "X_train, y_train = rand_os.fit_resample(X_train, y_train)\n",
    "\n",
    "#Train random forest\n",
    "ctf = RandomForestClassifier(n_estimators=100, random_state=42)\n",
    "ctf.fit(X_train, y_train)\n",
    "\n",
    "#Predict on test set\n",
    "y_pred = ctf.predict(X_test)\n",
    "\n",
    "#Evaluate random forest\n",
    "print(f\"Accuracy: {accuracy_score(y_test, y_pred)}\")\n",
    "print(\"---\"*10)\n",
    "print(f\"Classification Report:\\n {classification_report(y_test, y_pred)}\")\n",
    "print(\"---\"*10)\n",
    "print(f\"Confusion Matrix: {confusion_matrix(y_test, y_pred)}\")\n",
    "\n",
    "#Save Dead Class Precision, Recall, and Accuracy\n",
    "dead_class_precision[\"Random Forest\"] = precision_score(y_test, y_pred, pos_label=\"Dead\")\n",
    "dead_class_recall[\"Random Forest\"] = recall_score(y_test, y_pred, pos_label=\"Dead\")\n",
    "accuracy[\"Random Forest\"] = accuracy_score(y_test, y_pred)"
   ]
  },
  {
   "cell_type": "markdown",
   "metadata": {
    "id": "PS3r2zbmDIDY"
   },
   "source": [
    "### Gradient Boosting"
   ]
  },
  {
   "cell_type": "code",
   "execution_count": 27,
   "metadata": {
    "colab": {
     "base_uri": "https://localhost:8080/"
    },
    "id": "roVp796HCsEU",
    "outputId": "d40b8c16-2ee4-4236-f18e-35d7cc885f29"
   },
   "outputs": [
    {
     "name": "stdout",
     "output_type": "stream",
     "text": [
      "Accuracy: 0.8415584415584415\n",
      "------------------------------\n",
      "Classification Report:\n",
      "               precision    recall  f1-score   support\n",
      "\n",
      "       Alive       0.94      0.87      0.90       334\n",
      "        Dead       0.44      0.67      0.53        51\n",
      "\n",
      "    accuracy                           0.84       385\n",
      "   macro avg       0.69      0.77      0.72       385\n",
      "weighted avg       0.88      0.84      0.85       385\n",
      "\n",
      "------------------------------\n",
      "Confusion Matrix: [[290  44]\n",
      " [ 17  34]]\n"
     ]
    }
   ],
   "source": [
    "#Run Gradient Boosting\n",
    "data_gb = data_feature_selected.copy()\n",
    "\n",
    "X_train, X_test, y_train, y_test = train_test_split(\n",
    "    data_gb.iloc[:,:-1],\n",
    "    data_gb.iloc[:,-1],\n",
    "    test_size=0.2,\n",
    "    random_state=42)\n",
    "\n",
    "#Resampple\n",
    "rand_os = RandomOverSampler(random_state=42)\n",
    "X_train, y_train = rand_os.fit_resample(X_train, y_train)\n",
    "\n",
    "#Train gradient boosting classifier\n",
    "gb = GradientBoostingClassifier(n_estimators=100, learning_rate=0.1, max_depth=3, random_state=4)\n",
    "gb.fit(X_train, y_train)\n",
    "\n",
    "#Predict on test set\n",
    "y_pred = gb.predict(X_test)\n",
    "\n",
    "#Evaluate gradient boosting\n",
    "print(f\"Accuracy: {accuracy_score(y_test, y_pred)}\")\n",
    "print(\"---\"*10)\n",
    "print(f\"Classification Report:\\n {classification_report(y_test, y_pred)}\")\n",
    "print(\"---\"*10)\n",
    "print(f\"Confusion Matrix: {confusion_matrix(y_test, y_pred)}\")\n",
    "\n",
    "#Save Dead Class Precision, Recall, and Accuracy\n",
    "dead_class_precision[\"Gradient Boosting\"] = precision_score(y_test, y_pred, pos_label=\"Dead\")\n",
    "dead_class_recall[\"Gradient Boosting\"] = recall_score(y_test, y_pred, pos_label=\"Dead\")\n",
    "accuracy[\"Gradient Boosting\"] = accuracy_score(y_test, y_pred)"
   ]
  },
  {
   "cell_type": "markdown",
   "metadata": {
    "id": "QvZqFMWVFBao"
   },
   "source": [
    "### Neural Networks"
   ]
  },
  {
   "cell_type": "code",
   "execution_count": 28,
   "metadata": {
    "colab": {
     "base_uri": "https://localhost:8080/"
    },
    "id": "uf94F28NE-RS",
    "outputId": "c5a7fa22-152c-4bf1-84cd-4b7ae2454207"
   },
   "outputs": [
    {
     "name": "stdout",
     "output_type": "stream",
     "text": [
      "Accuracy: 0.8441558441558441\n",
      "------------------------------\n",
      "Classification Report:\n",
      "               precision    recall  f1-score   support\n",
      "\n",
      "       Alive       0.91      0.91      0.91       334\n",
      "        Dead       0.42      0.43      0.42        51\n",
      "\n",
      "    accuracy                           0.84       385\n",
      "   macro avg       0.66      0.67      0.67       385\n",
      "weighted avg       0.85      0.84      0.85       385\n",
      "\n",
      "------------------------------\n",
      "Confusion Matrix: [[303  31]\n",
      " [ 29  22]]\n"
     ]
    }
   ],
   "source": [
    "#Run Basic Neural Network\n",
    "data_nn = data_feature_selected.copy()\n",
    "\n",
    "X_train, X_test, y_train, y_test = train_test_split(\n",
    "    data_nn.iloc[:,:-1],\n",
    "    data_nn.iloc[:,-1],\n",
    "    test_size=0.2,\n",
    "    random_state=42)\n",
    "\n",
    "#Resampple\n",
    "rand_os = RandomOverSampler(random_state=42)\n",
    "X_train, y_train = rand_os.fit_resample(X_train, y_train)\n",
    "\n",
    "#Train neural network\n",
    "nn = MLPClassifier(hidden_layer_sizes=(50,10),\n",
    "                   max_iter=1000,\n",
    "                   activation='relu',\n",
    "                   solver='adam',\n",
    "                   random_state=42)\n",
    "nn.fit(X_train, y_train)\n",
    "\n",
    "#Predict on test set\n",
    "y_pred = nn.predict(X_test)\n",
    "\n",
    "#Evaluate neural network\n",
    "print(f\"Accuracy: {accuracy_score(y_test, y_pred)}\")\n",
    "print(\"---\"*10)\n",
    "print(f\"Classification Report:\\n {classification_report(y_test, y_pred)}\")\n",
    "print(\"---\"*10)\n",
    "print(f\"Confusion Matrix: {confusion_matrix(y_test, y_pred)}\")\n",
    "\n",
    "#Save Dead Class Precision, Recall, and Accuracy\n",
    "dead_class_precision[\"Neural Network\"] = precision_score(y_test, y_pred, pos_label=\"Dead\")\n",
    "dead_class_recall[\"Neural Network\"] = recall_score(y_test, y_pred, pos_label=\"Dead\")\n",
    "accuracy[\"Neural Network\"] = accuracy_score(y_test, y_pred)"
   ]
  },
  {
   "cell_type": "markdown",
   "metadata": {
    "id": "74ye0-sRG9TY"
   },
   "source": [
    "## Hyperparameter Tuning"
   ]
  },
  {
   "cell_type": "markdown",
   "metadata": {
    "id": "TIhIqSWAHAPn"
   },
   "source": [
    "###C4.5 Decision Tree"
   ]
  },
  {
   "cell_type": "code",
   "execution_count": 29,
   "metadata": {
    "colab": {
     "base_uri": "https://localhost:8080/",
     "height": 226
    },
    "id": "d558lrzjzO3B",
    "outputId": "e95a4b68-66df-4bce-9add-3865a8063870"
   },
   "outputs": [
    {
     "data": {
      "text/html": [
       "<div>\n",
       "<style scoped>\n",
       "    .dataframe tbody tr th:only-of-type {\n",
       "        vertical-align: middle;\n",
       "    }\n",
       "\n",
       "    .dataframe tbody tr th {\n",
       "        vertical-align: top;\n",
       "    }\n",
       "\n",
       "    .dataframe thead th {\n",
       "        text-align: right;\n",
       "    }\n",
       "</style>\n",
       "<table border=\"1\" class=\"dataframe\">\n",
       "  <thead>\n",
       "    <tr style=\"text-align: right;\">\n",
       "      <th></th>\n",
       "      <th>mean_test_score</th>\n",
       "      <th>param_classifier__max_depth</th>\n",
       "      <th>param_classifier__min_samples_split</th>\n",
       "    </tr>\n",
       "  </thead>\n",
       "  <tbody>\n",
       "    <tr>\n",
       "      <th>2</th>\n",
       "      <td>0.617639</td>\n",
       "      <td>2</td>\n",
       "      <td>54</td>\n",
       "    </tr>\n",
       "    <tr>\n",
       "      <th>30</th>\n",
       "      <td>0.617639</td>\n",
       "      <td>2</td>\n",
       "      <td>28</td>\n",
       "    </tr>\n",
       "    <tr>\n",
       "      <th>25</th>\n",
       "      <td>0.611664</td>\n",
       "      <td>4</td>\n",
       "      <td>68</td>\n",
       "    </tr>\n",
       "    <tr>\n",
       "      <th>11</th>\n",
       "      <td>0.611664</td>\n",
       "      <td>4</td>\n",
       "      <td>76</td>\n",
       "    </tr>\n",
       "    <tr>\n",
       "      <th>26</th>\n",
       "      <td>0.611664</td>\n",
       "      <td>4</td>\n",
       "      <td>44</td>\n",
       "    </tr>\n",
       "  </tbody>\n",
       "</table>\n",
       "</div>"
      ],
      "text/plain": [
       "    mean_test_score  param_classifier__max_depth  \\\n",
       "2          0.617639                            2   \n",
       "30         0.617639                            2   \n",
       "25         0.611664                            4   \n",
       "11         0.611664                            4   \n",
       "26         0.611664                            4   \n",
       "\n",
       "    param_classifier__min_samples_split  \n",
       "2                                    54  \n",
       "30                                   28  \n",
       "25                                   68  \n",
       "11                                   76  \n",
       "26                                   44  "
      ]
     },
     "execution_count": 29,
     "metadata": {},
     "output_type": "execute_result"
    }
   ],
   "source": [
    "#Hyperparameters to use will be depth and min sample split\n",
    "data_dt = data_feature_selected.copy()\n",
    "\n",
    "X_train, X_test, y_train, y_test = train_test_split(\n",
    "    data_dt.iloc[:,:-1],\n",
    "    data_dt.iloc[:,-1],\n",
    "    test_size=0.2,\n",
    "    random_state=42)\n",
    "\n",
    "#Make grid\n",
    "grid = {'classifier__max_depth': list(range(1, 21)),\n",
    "        'classifier__min_samples_split': list(range(10, 101))}\n",
    "\n",
    "#Scorer for Dead class recall\n",
    "def recall_dead_class(y_test, y_pred):\n",
    "    return recall_score(y_test, y_pred, pos_label='Dead')\n",
    "\n",
    "recall_scorer = make_scorer(recall_dead_class)\n",
    "\n",
    "#Define the pipeline\n",
    "pipeline = Pipeline([\n",
    "    ('sampler', RandomOverSampler(random_state=42)),\n",
    "    ('classifier', DecisionTreeClassifier(random_state=42))\n",
    "])\n",
    "\n",
    "#Perform RandomizedSearchCV with the pipeline\n",
    "search_dt = RandomizedSearchCV(\n",
    "    estimator=pipeline,\n",
    "    param_distributions=grid,\n",
    "    n_iter=50,\n",
    "    scoring=recall_scorer,\n",
    "    cv=5,\n",
    "    random_state=42,\n",
    "    n_jobs=-1\n",
    ")\n",
    "\n",
    "#Train Decision Tree Search\n",
    "search_dt.fit(X_train, y_train)\n",
    "\n",
    "#Visualize best parameters\n",
    "results = pd.DataFrame(search_dt.cv_results_)\n",
    "results = results[['mean_test_score', 'param_classifier__max_depth', 'param_classifier__min_samples_split']]\n",
    "results.sort_values(by='mean_test_score', ascending=False).head()"
   ]
  },
  {
   "cell_type": "code",
   "execution_count": 30,
   "metadata": {
    "colab": {
     "base_uri": "https://localhost:8080/"
    },
    "id": "kuv-jXAnLvUH",
    "outputId": "d20a0928-c10d-4f03-bb27-d0e5113ce38a"
   },
   "outputs": [
    {
     "name": "stdout",
     "output_type": "stream",
     "text": [
      "Accuracy: 0.7818181818181819\n",
      "------------------------------\n",
      "Classification Report:\n",
      "               precision    recall  f1-score   support\n",
      "\n",
      "       Alive       0.94      0.80      0.86       334\n",
      "        Dead       0.34      0.69      0.45        51\n",
      "\n",
      "    accuracy                           0.78       385\n",
      "   macro avg       0.64      0.74      0.66       385\n",
      "weighted avg       0.86      0.78      0.81       385\n",
      "\n",
      "------------------------------\n",
      "Confusion Matrix: [[266  68]\n",
      " [ 16  35]]\n",
      "|--- Survival Months <= -1.22\n",
      "|   |--- Age <= 0.83\n",
      "|   |   |--- class: Dead\n",
      "|   |--- Age >  0.83\n",
      "|   |   |--- class: Dead\n",
      "|--- Survival Months >  -1.22\n",
      "|   |--- Survival Months <= -0.65\n",
      "|   |   |--- class: Dead\n",
      "|   |--- Survival Months >  -0.65\n",
      "|   |   |--- class: Alive\n",
      "\n"
     ]
    }
   ],
   "source": [
    "#Run decision tree with best parameters\n",
    "clf = DecisionTreeClassifier(criterion='entropy', max_depth=2, min_samples_split=54, random_state=42)\n",
    "\n",
    "#Perform Random Oversampling\n",
    "rand_os = RandomOverSampler(random_state=42)\n",
    "X_train, y_train = rand_os.fit_resample(X_train, y_train)\n",
    "\n",
    "clf.fit(X_train, y_train)\n",
    "\n",
    "y_pred = clf.predict(X_test)\n",
    "\n",
    "#Evaluate Decision Tree\n",
    "print(f\"Accuracy: {accuracy_score(y_test, y_pred)}\")\n",
    "print(\"---\"*10)\n",
    "print(f\"Classification Report:\\n {classification_report(y_test, y_pred)}\")\n",
    "print(\"---\"*10)\n",
    "print(f\"Confusion Matrix: {confusion_matrix(y_test, y_pred)}\")\n",
    "\n",
    "#Visualise the decision tree\n",
    "print(export_text(clf, feature_names=data_dt.columns[:-1]))\n",
    "\n",
    "#Save Dead Class Precision, Recall, and Accuracy\n",
    "dead_class_precision[\"C4.5 Decision Tree Hyperparameter Tuned\"] = precision_score(y_test, y_pred, pos_label=\"Dead\")\n",
    "dead_class_recall[\"C4.5 Decision Tree Hyperparameter Tuned\"] = recall_score(y_test, y_pred, pos_label=\"Dead\")\n",
    "accuracy[\"C4.5 Decision Tree Hyperparameter Tuned\"] = accuracy_score(y_test, y_pred)"
   ]
  },
  {
   "cell_type": "markdown",
   "metadata": {
    "id": "X-WbjMHYHEjA"
   },
   "source": [
    "### Random Forest"
   ]
  },
  {
   "cell_type": "code",
   "execution_count": 31,
   "metadata": {
    "colab": {
     "base_uri": "https://localhost:8080/",
     "height": 260
    },
    "id": "DzeCfY-L1kop",
    "outputId": "c8d4e91e-2885-4375-908d-e9fe019ceb81"
   },
   "outputs": [
    {
     "data": {
      "text/html": [
       "<div>\n",
       "<style scoped>\n",
       "    .dataframe tbody tr th:only-of-type {\n",
       "        vertical-align: middle;\n",
       "    }\n",
       "\n",
       "    .dataframe tbody tr th {\n",
       "        vertical-align: top;\n",
       "    }\n",
       "\n",
       "    .dataframe thead th {\n",
       "        text-align: right;\n",
       "    }\n",
       "</style>\n",
       "<table border=\"1\" class=\"dataframe\">\n",
       "  <thead>\n",
       "    <tr style=\"text-align: right;\">\n",
       "      <th></th>\n",
       "      <th>mean_test_score</th>\n",
       "      <th>param_classifier__n_estimators</th>\n",
       "      <th>param_classifier__max_features</th>\n",
       "    </tr>\n",
       "  </thead>\n",
       "  <tbody>\n",
       "    <tr>\n",
       "      <th>4</th>\n",
       "      <td>0.424609</td>\n",
       "      <td>53</td>\n",
       "      <td>log2</td>\n",
       "    </tr>\n",
       "    <tr>\n",
       "      <th>49</th>\n",
       "      <td>0.419346</td>\n",
       "      <td>193</td>\n",
       "      <td>log2</td>\n",
       "    </tr>\n",
       "    <tr>\n",
       "      <th>19</th>\n",
       "      <td>0.419346</td>\n",
       "      <td>132</td>\n",
       "      <td>sqrt</td>\n",
       "    </tr>\n",
       "    <tr>\n",
       "      <th>43</th>\n",
       "      <td>0.419346</td>\n",
       "      <td>123</td>\n",
       "      <td>sqrt</td>\n",
       "    </tr>\n",
       "    <tr>\n",
       "      <th>41</th>\n",
       "      <td>0.419346</td>\n",
       "      <td>140</td>\n",
       "      <td>sqrt</td>\n",
       "    </tr>\n",
       "  </tbody>\n",
       "</table>\n",
       "</div>"
      ],
      "text/plain": [
       "    mean_test_score  param_classifier__n_estimators  \\\n",
       "4          0.424609                              53   \n",
       "49         0.419346                             193   \n",
       "19         0.419346                             132   \n",
       "43         0.419346                             123   \n",
       "41         0.419346                             140   \n",
       "\n",
       "   param_classifier__max_features  \n",
       "4                            log2  \n",
       "49                           log2  \n",
       "19                           sqrt  \n",
       "43                           sqrt  \n",
       "41                           sqrt  "
      ]
     },
     "execution_count": 31,
     "metadata": {},
     "output_type": "execute_result"
    }
   ],
   "source": [
    "#Hyperparameters to use will be depth and min sample split\n",
    "data_rf = data_feature_selected.copy()\n",
    "\n",
    "X_train, X_test, y_train, y_test = train_test_split(\n",
    "    data_dt.iloc[:,:-1],\n",
    "    data_dt.iloc[:,-1],\n",
    "    test_size=0.2,\n",
    "    random_state=42)\n",
    "\n",
    "#Make grid\n",
    "grid = {'classifier__n_estimators': list(range(50,201)),\n",
    "        'classifier__max_features': ['sqrt', 'log2', None]}\n",
    "\n",
    "#Define the pipeline\n",
    "pipeline = Pipeline([\n",
    "    ('sampler', RandomOverSampler(random_state=42)),\n",
    "    ('classifier', RandomForestClassifier(random_state=42))\n",
    "])\n",
    "\n",
    "#Perform RandomizedSearchCV with the pipeline\n",
    "search_rf = RandomizedSearchCV(\n",
    "    estimator=pipeline,\n",
    "    param_distributions=grid,\n",
    "    n_iter=50,\n",
    "    scoring=recall_scorer,\n",
    "    cv=5,\n",
    "    random_state=42,\n",
    "    n_jobs=-1\n",
    ")\n",
    "\n",
    "#Train Random Forest Search\n",
    "search_rf.fit(X_train, y_train)\n",
    "\n",
    "#Visualize best parameters\n",
    "results = pd.DataFrame(search_rf.cv_results_)\n",
    "results = results[['mean_test_score', 'param_classifier__n_estimators', 'param_classifier__max_features']]\n",
    "results.sort_values(by='mean_test_score', ascending=False).head()"
   ]
  },
  {
   "cell_type": "code",
   "execution_count": 32,
   "metadata": {
    "colab": {
     "base_uri": "https://localhost:8080/"
    },
    "id": "JBwhDioAQbt3",
    "outputId": "2eef04a1-c080-41f6-fc16-f3af05183bd5"
   },
   "outputs": [
    {
     "name": "stdout",
     "output_type": "stream",
     "text": [
      "Accuracy: 0.8883116883116883\n",
      "------------------------------\n",
      "Classification Report:\n",
      "               precision    recall  f1-score   support\n",
      "\n",
      "       Alive       0.92      0.95      0.94       334\n",
      "        Dead       0.60      0.47      0.53        51\n",
      "\n",
      "    accuracy                           0.89       385\n",
      "   macro avg       0.76      0.71      0.73       385\n",
      "weighted avg       0.88      0.89      0.88       385\n",
      "\n",
      "------------------------------\n",
      "Confusion Matrix: [[318  16]\n",
      " [ 27  24]]\n"
     ]
    }
   ],
   "source": [
    "#Train random forest\n",
    "ctf = RandomForestClassifier(n_estimators=125, max_features = 'sqrt',random_state=42)\n",
    "\n",
    "#Perform Random Oversampling\n",
    "rand_os = RandomOverSampler(random_state=42)\n",
    "X_train, y_train = rand_os.fit_resample(X_train, y_train)\n",
    "\n",
    "ctf.fit(X_train, y_train)\n",
    "\n",
    "#Predict on test set\n",
    "y_pred = ctf.predict(X_test)\n",
    "\n",
    "#Evaluate random forest\n",
    "print(f\"Accuracy: {accuracy_score(y_test, y_pred)}\")\n",
    "print(\"---\"*10)\n",
    "print(f\"Classification Report:\\n {classification_report(y_test, y_pred)}\")\n",
    "print(\"---\"*10)\n",
    "print(f\"Confusion Matrix: {confusion_matrix(y_test, y_pred)}\")\n",
    "\n",
    "#Save Dead Class Precision, Recall, and Accuracy\n",
    "dead_class_precision[\"Random Forest Hyperparameter Tuned\"] = precision_score(y_test, y_pred, pos_label=\"Dead\")\n",
    "dead_class_recall[\"Random Forest Hyperparameter Tuned\"] = recall_score(y_test, y_pred, pos_label=\"Dead\")\n",
    "accuracy[\"Random Forest Hyperparameter Tuned\"] = accuracy_score(y_test, y_pred)"
   ]
  },
  {
   "cell_type": "markdown",
   "metadata": {
    "id": "BV7vmG-lYibe"
   },
   "source": [
    "## Results Table"
   ]
  },
  {
   "cell_type": "code",
   "execution_count": 33,
   "metadata": {
    "colab": {
     "base_uri": "https://localhost:8080/",
     "height": 300
    },
    "id": "X_ARbg40Yj56",
    "outputId": "cd3d62b6-c42c-4aa7-87a4-8c972669287b"
   },
   "outputs": [
    {
     "data": {
      "text/html": [
       "<style type=\"text/css\">\n",
       "#T_13033_row0_col0, #T_13033_row0_col2, #T_13033_row5_col1 {\n",
       "  background-color: red;\n",
       "}\n",
       "#T_13033_row2_col1, #T_13033_row6_col1, #T_13033_row7_col0, #T_13033_row7_col2 {\n",
       "  background-color: green;\n",
       "}\n",
       "</style>\n",
       "<table id=\"T_13033\">\n",
       "  <thead>\n",
       "    <tr>\n",
       "      <th class=\"blank level0\" >&nbsp;</th>\n",
       "      <th id=\"T_13033_level0_col0\" class=\"col_heading level0 col0\" >Precision</th>\n",
       "      <th id=\"T_13033_level0_col1\" class=\"col_heading level0 col1\" >Recall</th>\n",
       "      <th id=\"T_13033_level0_col2\" class=\"col_heading level0 col2\" >Accuracy</th>\n",
       "    </tr>\n",
       "  </thead>\n",
       "  <tbody>\n",
       "    <tr>\n",
       "      <th id=\"T_13033_level0_row0\" class=\"row_heading level0 row0\" >KNN</th>\n",
       "      <td id=\"T_13033_row0_col0\" class=\"data row0 col0\" >0.316832</td>\n",
       "      <td id=\"T_13033_row0_col1\" class=\"data row0 col1\" >0.627451</td>\n",
       "      <td id=\"T_13033_row0_col2\" class=\"data row0 col2\" >0.771429</td>\n",
       "    </tr>\n",
       "    <tr>\n",
       "      <th id=\"T_13033_level0_row1\" class=\"row_heading level0 row1\" >Naive Bayes</th>\n",
       "      <td id=\"T_13033_row1_col0\" class=\"data row1 col0\" >0.330097</td>\n",
       "      <td id=\"T_13033_row1_col1\" class=\"data row1 col1\" >0.666667</td>\n",
       "      <td id=\"T_13033_row1_col2\" class=\"data row1 col2\" >0.776623</td>\n",
       "    </tr>\n",
       "    <tr>\n",
       "      <th id=\"T_13033_level0_row2\" class=\"row_heading level0 row2\" >C4.5 Decision Tree</th>\n",
       "      <td id=\"T_13033_row2_col0\" class=\"data row2 col0\" >0.339806</td>\n",
       "      <td id=\"T_13033_row2_col1\" class=\"data row2 col1\" >0.686275</td>\n",
       "      <td id=\"T_13033_row2_col2\" class=\"data row2 col2\" >0.781818</td>\n",
       "    </tr>\n",
       "    <tr>\n",
       "      <th id=\"T_13033_level0_row3\" class=\"row_heading level0 row3\" >Random Forest</th>\n",
       "      <td id=\"T_13033_row3_col0\" class=\"data row3 col0\" >0.589744</td>\n",
       "      <td id=\"T_13033_row3_col1\" class=\"data row3 col1\" >0.450980</td>\n",
       "      <td id=\"T_13033_row3_col2\" class=\"data row3 col2\" >0.885714</td>\n",
       "    </tr>\n",
       "    <tr>\n",
       "      <th id=\"T_13033_level0_row4\" class=\"row_heading level0 row4\" >Gradient Boosting</th>\n",
       "      <td id=\"T_13033_row4_col0\" class=\"data row4 col0\" >0.435897</td>\n",
       "      <td id=\"T_13033_row4_col1\" class=\"data row4 col1\" >0.666667</td>\n",
       "      <td id=\"T_13033_row4_col2\" class=\"data row4 col2\" >0.841558</td>\n",
       "    </tr>\n",
       "    <tr>\n",
       "      <th id=\"T_13033_level0_row5\" class=\"row_heading level0 row5\" >Neural Network</th>\n",
       "      <td id=\"T_13033_row5_col0\" class=\"data row5 col0\" >0.415094</td>\n",
       "      <td id=\"T_13033_row5_col1\" class=\"data row5 col1\" >0.431373</td>\n",
       "      <td id=\"T_13033_row5_col2\" class=\"data row5 col2\" >0.844156</td>\n",
       "    </tr>\n",
       "    <tr>\n",
       "      <th id=\"T_13033_level0_row6\" class=\"row_heading level0 row6\" >C4.5 Decision Tree Hyperparameter Tuned</th>\n",
       "      <td id=\"T_13033_row6_col0\" class=\"data row6 col0\" >0.339806</td>\n",
       "      <td id=\"T_13033_row6_col1\" class=\"data row6 col1\" >0.686275</td>\n",
       "      <td id=\"T_13033_row6_col2\" class=\"data row6 col2\" >0.781818</td>\n",
       "    </tr>\n",
       "    <tr>\n",
       "      <th id=\"T_13033_level0_row7\" class=\"row_heading level0 row7\" >Random Forest Hyperparameter Tuned</th>\n",
       "      <td id=\"T_13033_row7_col0\" class=\"data row7 col0\" >0.600000</td>\n",
       "      <td id=\"T_13033_row7_col1\" class=\"data row7 col1\" >0.470588</td>\n",
       "      <td id=\"T_13033_row7_col2\" class=\"data row7 col2\" >0.888312</td>\n",
       "    </tr>\n",
       "  </tbody>\n",
       "</table>\n"
      ],
      "text/plain": [
       "<pandas.io.formats.style.Styler at 0x16b1c4610>"
      ]
     },
     "execution_count": 33,
     "metadata": {},
     "output_type": "execute_result"
    }
   ],
   "source": [
    "#Tabluate Precision, Recall, and Accuracy\n",
    "results = pd.DataFrame([dead_class_precision, dead_class_recall, accuracy], index=[\"Precision\", \"Recall\", \"Accuracy\"])\n",
    "results = results.transpose()\n",
    "\n",
    "#Highlight Highest and Lowest Values per column\n",
    "results_highlited = results.style.highlight_max(color='green').highlight_min(color='red')\n",
    "results_highlited"
   ]
  },
  {
   "cell_type": "code",
   "execution_count": 34,
   "metadata": {
    "id": "1WXySfCtY7iH"
   },
   "outputs": [],
   "source": [
    "results_highlited.to_excel(\"results.xlsx\")"
   ]
  }
 ],
 "metadata": {
  "colab": {
   "collapsed_sections": [
    "Bt7L-IcWzh2p",
    "jrcxc4bDHPOm",
    "F8RWqztJzfpd",
    "BfB6HZ2fo8By",
    "TWUvhuHezf6Q",
    "D9u9cSYPq5zT",
    "DaFaRzcU5XTf",
    "2qPpfulw6e60",
    "XfSBta9CkQ6z",
    "USDlu9NSn-br",
    "8QaueUi8CHgP",
    "PS3r2zbmDIDY",
    "QvZqFMWVFBao"
   ],
   "provenance": []
  },
  "kernelspec": {
   "display_name": "Python 3 (ipykernel)",
   "language": "python",
   "name": "python3"
  },
  "language_info": {
   "codemirror_mode": {
    "name": "ipython",
    "version": 3
   },
   "file_extension": ".py",
   "mimetype": "text/x-python",
   "name": "python",
   "nbconvert_exporter": "python",
   "pygments_lexer": "ipython3",
   "version": "3.11.5"
  }
 },
 "nbformat": 4,
 "nbformat_minor": 1
}
